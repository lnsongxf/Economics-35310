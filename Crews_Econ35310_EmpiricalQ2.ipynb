{
 "cells": [
  {
   "cell_type": "markdown",
   "metadata": {},
   "source": [
    "# Empirical Assignment (Q2)\n",
    "## Economics 35310: Topics in Trade & Growth\n",
    "### Author: Levi Crews\n",
    "\n",
    "In this notebook I simulate an economy of 100,000 firms using the model from TKMD (2018). Firms are indexed from 1 to 100,000. Each set of eligible suppliers (max cardinality of 300) is drawn randomly from the set of firms whose indices precede that of the buyer. Each firm $j$ is characterized by\n",
    "+ its set of eligible suppliers that satisfies the ordering ($Z_j$)\n",
    "+ its core productivity level ($\\phi_j$)\n",
    "+ its vector of firm-pair-specific cost shifters ($\\alpha_{kj}$)\n",
    "+ its foreign input cost shifter ($\\alpha_{Fj}$)\n",
    "+ its foreign demand shifter ($\\beta_{jF}$)\n",
    "+ its vector of fixed cost draws for all eligible suppliers ($f_{kj}$)\n",
    "+ its fixed costs of importing and exporting ($f_{Fj}$, $f_{jF}$)\n",
    "\n",
    "I normalize firms' labor productivity shifters, $\\alpha_{Lj} = 1$, and firms' domestic final demand shifters, $\\beta_{jH} = 1$. I parameterize firm characteristics in the following way:\n",
    "+ $\\alpha_{kj} = X_k \\times Y_{kj}$ with $X_k \\sim $ Beta(0.1, 0.9) and $Y_{kj} \\sim $ log-normal($\\Phi_{scale}^{\\alpha_{dom}}, \\Phi_{disp}^{\\alpha, \\beta}$) i.i.d.\n",
    "+ $\\alpha_{Fj} \\sim $ log-normal($\\Phi_{scale}^{\\alpha_F}, \\Phi_{disp}^{\\alpha, \\beta}$) i.i.d.\n",
    "+ $\\beta_{jF} \\sim $ log-normal($\\Phi_{scale}^{\\beta_F}, \\Phi_{disp}^{\\alpha, \\beta}$) i.i.d.\n",
    "\n",
    "For the 4 parameters $\\Phi$ I use the estimated values in Table 4 of TKMD (2018):\n",
    "\n",
    "| $\\Phi_{scale}^{\\alpha_{dom}}$ | $\\Phi_{scale}^{\\alpha_F}$ | $\\Phi_{scale}^{\\beta_F}$ | $\\Phi_{disp}^{\\alpha, \\beta}$ |\n",
    "|--|--|--|--|\n",
    "| -4.42 | -2.22 | -2.01 | 2.34 |\n",
    "\n",
    "**To simplify things greatly, I set all fixed costs of forming links to be the same.**\n",
    "\n",
    "In this simulation I try to match the following moments of the Belgian data presented in Table 5 of TKMD (2018):\n",
    "+ number of importing firms: 19,000\n",
    "+ number of exporting firms: 12,000\n",
    "+ labor share in cost: 0.17 / 0.34 / 0.54 (25/50/75 percentiles)\n",
    "+ productivity: $\\phi_j \\sim $ log-normal (-1.52, 0.85)\n",
    "+ total foreign input share: 0.24 / 0.39 / 0.55 (25/50/75 percentiles)\n",
    "+ number of domestic suppliers: 19 / 33 / 55 (25/50/75 percentiles)\n",
    "+ number of domestic customers: 2 / 9 / 34 (25/50/75 percentiles)\n",
    "\n",
    "Note that I normalized $\\frac{PE^{1/(\\sigma-1)}}{\\mu w} = 1$ to generate the productivity distribution. In addition, I calibrate $\\sigma = 4$ and $\\rho = 2$ following the baseline specification of TKMD (2018).\n",
    "\n",
    "I will then (i) calculate the total foreign input share for each simulated firm and (ii) calculate the real wage change from going to autarky.\n",
    "\n",
    "Finally, I will (iii) simulate a 10% increase in the import price and (iv) calculate the concomitant change in the real wage, holding the network fixed.\n",
    "\n",
    "**My algorithm follows that described in Appendix G.1 of TKMD (2018).**"
   ]
  },
  {
   "cell_type": "code",
   "execution_count": 1,
   "metadata": {},
   "outputs": [],
   "source": [
    "# Load packages \n",
    "using Distributions, StatsBase, Random, Statistics\n",
    "using LinearAlgebra, SparseArrays, NLsolve, IterativeSolvers"
   ]
  },
  {
   "cell_type": "code",
   "execution_count": 2,
   "metadata": {},
   "outputs": [],
   "source": [
    "# Load user-defined functions\n",
    "# Change path as needed\n",
    "include(\"Crews_Econ35310_FindW.jl\")\n",
    "include(\"Crews_Econ35310_FindA.jl\")\n",
    "include(\"Crews_Econ35310_Q2Solver.jl\");"
   ]
  },
  {
   "cell_type": "code",
   "execution_count": 3,
   "metadata": {},
   "outputs": [],
   "source": [
    "# Set seed\n",
    "Random.seed!(4321);"
   ]
  },
  {
   "cell_type": "markdown",
   "metadata": {},
   "source": [
    "### Initializing the Acyclic Network\n",
    "\n",
    "Let's start by initializing an acyclic network. First, I index firms 1 to 100,000. Then, for each firm $j$ I draw the cardinality of its set of eligible domestic suppliers, $Z_j^D$ from a discretized log-normal(3.5, 0.8) distribution truncated at min$\\{j,$ 300$\\}$."
   ]
  },
  {
   "cell_type": "code",
   "execution_count": 4,
   "metadata": {},
   "outputs": [],
   "source": [
    "# Initialize network\n",
    "num = 100000\n",
    "maxcard = 300\n",
    "Nmu = 3.5\n",
    "Nsigma = 0.8\n",
    "\n",
    "N = zeros(num, 2)\n",
    "N[:, 1] = collect(1:num)\n",
    "for i = 1:maxcard\n",
    "    temp = min(rand(LogNormal(Nmu, Nsigma)), i-1)\n",
    "    N[i, 2] = ceil(Int64, temp)\n",
    "end\n",
    "temp = min.(rand(LogNormal(Nmu, Nsigma), num-maxcard), maxcard*ones(num-maxcard,1))\n",
    "N[maxcard+1:end, 2] = ceil.(Int64, temp)\n",
    "N = Array{Int64}(N);"
   ]
  },
  {
   "cell_type": "markdown",
   "metadata": {},
   "source": [
    "### Assigning Firm Characteristics\n",
    "\n",
    "I now assign firm characteristics according to the distributions listed at the outset."
   ]
  },
  {
   "cell_type": "code",
   "execution_count": 5,
   "metadata": {},
   "outputs": [],
   "source": [
    "# Initialize parameters\n",
    "Phi_ADscale = -4.42\n",
    "Phi_AFscale = -2.22\n",
    "Phi_BFscale = -2.01\n",
    "Phi_ABdisp = 2.34\n",
    "f = 2.0\n",
    "\n",
    "# Draw firm characteristics\n",
    "phi = rand(LogNormal(-1.52, 0.85), num) # \\phi_j\n",
    "X = rand(Beta(0.1, 0.9), num) # X_j\n",
    "Y = rand(LogNormal(Phi_ADscale, Phi_ABdisp), num) # Y_{kj} for all k\n",
    "alpha_H = X .* Y\n",
    "alpha_F = rand(LogNormal(Phi_AFscale, Phi_ABdisp), num) # \\alpha_{Fj}\n",
    "beta_F = rand(LogNormal(Phi_BFscale, Phi_ABdisp), num) # \\beta_{jF}\n",
    "fixed = f*ones(num,1); # fixed cost"
   ]
  },
  {
   "cell_type": "code",
   "execution_count": 6,
   "metadata": {},
   "outputs": [],
   "source": [
    "# Calibrate elasticities and labor supply\n",
    "sigma = 4.0\n",
    "rho = 2.0\n",
    "tau = 1.05\n",
    "mu = sigma / (sigma - 1)\n",
    "L = 1.0;\n",
    "\n",
    "# Arbitrarily choose foreign variable price vector\n",
    "p_F = (rand(num,1) .+ 1.25) # p_F = 1.75 * ones(num,1)\n",
    "P_F = 0.05 # P_F = (sum(p_F.^(1-sigma)))^(1/(sigma-1))\n",
    "E_F = 0.7;"
   ]
  },
  {
   "cell_type": "code",
   "execution_count": 7,
   "metadata": {},
   "outputs": [
    {
     "name": "stdout",
     "output_type": "stream",
     "text": [
      "Aggregate demand blew up.\n"
     ]
    },
    {
     "ename": "UndefVarError",
     "evalue": "UndefVarError: total_cost not defined",
     "output_type": "error",
     "traceback": [
      "UndefVarError: total_cost not defined",
      "",
      "Stacktrace:",
      " [1] Crews_FindA(::Float64, ::Array{Int64,2}, ::Float64, ::Float64, ::Array{Float64,2}, ::Float64, ::Float64, ::Float64, ::Float64, ::Array{Float64,1}, ::Array{Float64,1}, ::Array{Float64,1}, ::Array{Float64,1}, ::Array{Float64,2}) at C:\\Users\\levic\\Dropbox\\University-of-Chicago\\Academics\\2-SecondYear\\Econ35310-TradeGrowth\\Empirical-Project\\Crews_Econ35310_FindA.jl:47",
      " [2] Crews_FindW(::Float64, ::Array{Int64,2}, ::Float64, ::Array{Float64,2}, ::Float64, ::Float64, ::Float64, ::Float64, ::Array{Float64,1}, ::Array{Float64,1}, ::Array{Float64,1}, ::Array{Float64,1}, ::Array{Float64,2}) at C:\\Users\\levic\\Dropbox\\University-of-Chicago\\Academics\\2-SecondYear\\Econ35310-TradeGrowth\\Empirical-Project\\Crews_Econ35310_FindW.jl:37",
      " [3] top-level scope at In[7]:1"
     ]
    }
   ],
   "source": [
    "w = Crews_FindW(L, N, tau, p_F, P_F, E_F, sigma, rho, phi, alpha_H, alpha_F, beta_F, fixed)\n",
    "if w >= 0\n",
    "    println(\"w = \", w)\n",
    "    println(\"Hooray! We found an equilibrium.\")\n",
    "else\n",
    "    println(\"w = \", w)\n",
    "    println(\"We failed to find an equilibrium.\")\n",
    "end"
   ]
  },
  {
   "cell_type": "markdown",
   "metadata": {},
   "source": [
    "### The Effects of a 10% Foreign Price Increase\n",
    "\n",
    "Consider a uniform 10% foreign price increase. We want to identify the concomitant change in the real wage. To do so, we used Propositions 1 and 2 as well as Section A.2 of the appendix of TKMD (2018)."
   ]
  },
  {
   "cell_type": "code",
   "execution_count": null,
   "metadata": {},
   "outputs": [],
   "source": [
    "# 10% increase in foreign price\n",
    "p_F_hat = 1.1\n",
    "\n",
    "# guess w_hat\n",
    "x_hat = ones(num,1)\n",
    "x_hat_previous = 1.1*ones(num,1)\n",
    "w_hat = 1    # guess\n",
    "w_hat_previous = 0.9;"
   ]
  },
  {
   "cell_type": "code",
   "execution_count": null,
   "metadata": {},
   "outputs": [],
   "source": [
    "while abs(w_hat_previous-w_hat) > 10e-9\n",
    "    w_hat_previous = w_hat\n",
    "    c_hat = ((ones(num,1)-totFshare)*(w_hat^(1-rho)) + totFshare*(p_F_hat^(1-rho))).^(1/(1-rho))\n",
    "    x_hat_F = c_hat.^(1-sigma) .* IndI\n",
    "    P_hat = (c_hat'.^(1-sigma)*share_H)^(1/(1-sigma))\n",
    "    share_L_hat = w_hat^(1-rho) * c_hat.^(rho-1)\n",
    "    share_hat = c_hat'.^(1-rho).*SparseNet.*c_hat.^(1-rho)\n",
    "    while norm(x_hat-x_hat_previous) > 10e-30\n",
    "        x_hat_previous = x_hat\n",
    "        E_hat = (w*L/E*w_hat) + (total_profit[:,1]'*x_hat_previous[:,1]/E)\n",
    "        x_hat = x_F./total_sale.*x_hat_F + x_H./total_sale.*c_hat.^(1-sigma)*P_hat^(sigma-1)*E_hat + share_hat.*x_D*x_hat_previous./total_sale\n",
    "        w_hat = (share_L .* share_L_hat)'*(total_cost .* x_hat/(w*L))\n",
    "        w_hat = w_hat[1]\n",
    "    end\n",
    "end"
   ]
  },
  {
   "cell_type": "code",
   "execution_count": null,
   "metadata": {},
   "outputs": [],
   "source": [
    "real_wage_change = w_hat/P_hat"
   ]
  }
 ],
 "metadata": {
  "kernelspec": {
   "display_name": "Julia 1.0.0",
   "language": "julia",
   "name": "julia-1.0"
  },
  "language_info": {
   "file_extension": ".jl",
   "mimetype": "application/julia",
   "name": "julia",
   "version": "1.0.0"
  }
 },
 "nbformat": 4,
 "nbformat_minor": 2
}
