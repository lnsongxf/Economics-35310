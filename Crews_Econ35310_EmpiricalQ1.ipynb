{
 "cells": [
  {
   "cell_type": "markdown",
   "metadata": {},
   "source": [
    "# Empirical Assignment (Q1)\n",
    "## Economics 35310: Topics in Trade & Growth\n",
    "### Author: Levi Crews\n",
    "\n",
    "In this notebook I simulate an economy of 100,000 firms using the model from TKMD (2018). Firms are indexed from 1 to 100,000. Each set of eligible suppliers (max cardinality of 300) is drawn randomly from the set of firms whose indices precede that of the buyer. Each firm $j$ is characterized by\n",
    "+ its set of eligible suppliers that satisfies the ordering ($Z_j$)\n",
    "+ its core productivity level ($\\phi_j$)\n",
    "+ its vector of firm-pair-specific cost shifters ($\\alpha_{kj}$)\n",
    "+ its foreign input cost shifter ($\\alpha_{Fj}$)\n",
    "+ its foreign demand shifter ($\\beta_{jF}$)\n",
    "+ its vector of fixed cost draws for all eligible suppliers ($f_{kj}$)\n",
    "+ its fixed costs of importing and exporting ($f_{Fj}$, $f_{jF}$)\n",
    "\n",
    "I normalize firms' labor productivity shifters, $\\alpha_{Lj} = 1$, and firms' domestic final demand shifters, $\\beta_{jH} = 1$. I parameterize firm characteristics in the following way:\n",
    "+ $\\alpha_{kj} = X_k \\times Y_{kj}$ with $X_k \\sim $ Beta(0.1, 0.9) and $Y_{kj} \\sim $ log-normal($\\Phi_{scale}^{\\alpha_{dom}}, \\Phi_{disp}^{\\alpha, \\beta}$) i.i.d.\n",
    "+ $\\alpha_{Fj} \\sim $ log-normal($\\Phi_{scale}^{\\alpha_F}, \\Phi_{disp}^{\\alpha, \\beta}$) i.i.d.\n",
    "+ $\\beta_{jF} \\sim $ log-normal($\\Phi_{scale}^{\\beta_F}, \\Phi_{disp}^{\\alpha, \\beta}$) i.i.d.\n",
    "+ $f_{kj} \\sim $ log-normal($\\Phi_{scale}^{f_{dom}}, \\Phi_{disp}^f$) i.i.d. (same for all $k$)\n",
    "+ $f_{Fj} \\sim $ log-normal($\\Phi_{scale}^{f_{imp}}, \\Phi_{disp}^f$) i.i.d.\n",
    "+ $f_{jF} \\sim $ log-normal($\\Phi_{scale}^{f_{exp}}, \\Phi_{disp}^f$) i.i.d.\n",
    "\n",
    "For the 8 parameters $\\Phi$ I use the estimated values in Table 4 of TKMD (2018):\n",
    "\n",
    "| $\\Phi_{scale}^{\\alpha_{dom}}$ | $\\Phi_{scale}^{\\alpha_F}$ | $\\Phi_{scale}^{\\beta_F}$ | $\\Phi_{disp}^{\\alpha, \\beta}$ | $\\Phi_{scale}^{f_{dom}}$ | $\\Phi_{scale}^{f_{imp}}$ | $\\Phi_{scale}^{f_{exp}}$ | $\\Phi_{disp}^f$ |\n",
    "|--|--|--|--|--|--|--|--|\n",
    "| -4.42 | -2.22 | -2.01 | 2.34 | -3.21 | 2.64 | 6.75 | 6.98 |\n",
    "\n",
    "In this simulation I try to match the following moments of the Belgian data presented in Table 5 of TKMD (2018):\n",
    "+ number of importing firms: 19,000\n",
    "+ number of exporting firms: 12,000\n",
    "+ labor share in cost: 0.17 / 0.34 / 0.54 (25/50/75 percentiles)\n",
    "+ productivity: $\\phi_j \\sim $ log-normal (-1.52, 0.85)\n",
    "+ total foreign input share: 0.24 / 0.39 / 0.55 (25/50/75 percentiles)\n",
    "+ number of domestic suppliers: 19 / 33 / 55 (25/50/75 percentiles)\n",
    "+ number of domestic customers: 2 / 9 / 34 (25/50/75 percentiles)\n",
    "\n",
    "Note that I normalized $\\frac{PE^{1/(\\sigma-1)}}{\\mu w} = 1$ to generate the productivity distribution. In addition, I calibrate $\\sigma = 4$ and $\\rho = 2$ following the baseline specification of TKMD (2018).\n",
    "\n",
    "I will then (i) calculate the total foreign input share for each simulated firm and (ii) calculate the real wage change from going to autarky.\n",
    "\n",
    "Finally, I will (iii) simulate a 10% increase in the import price and (iv) calculate the concomitant change in the real wage, holding the network fixed."
   ]
  },
  {
   "cell_type": "code",
   "execution_count": 61,
   "metadata": {},
   "outputs": [],
   "source": [
    "# Load packages \n",
    "using Distributions, StatsBase, Random, SparseArrays, Statistics\n",
    "using Plots\n",
    "unicodeplots()\n",
    "\n",
    "# Load user-defined functions\n",
    "# Change path as needed\n",
    "include(\"C:\\\\Users\\\\levic\\\\Dropbox\\\\University-of-Chicago\\\\Academics\\\\2-SecondYear\\\\Econ35310-TradeGrowth\\\\Empirical-Project\\\\Crews_Econ35310_FixNetEquil.jl\");\n",
    "\n",
    "# Set seed\n",
    "Random.seed!(4321);"
   ]
  },
  {
   "cell_type": "markdown",
   "metadata": {},
   "source": [
    "### Initializing the Acyclic Network\n",
    "\n",
    "I begin by generating an acyclic network. First, I index firms 1 to 100,000. Then, for each firm $j$ I draw the cardinality of its set of eligible domestic suppliers, $Z_j^D$ from the distribution Uniform(0, min$\\{j,$ 70$\\}$). With the cardinality of $Z_j^D$ in hand for each firm $j$, I then randomly select $|Z_j^D|$ indices $i$ such that $i < j$ for each firm $j$. After this, I randomly assign import/export decisions in order to match the number of importing and exporting firms from Table 5. This completes the network."
   ]
  },
  {
   "cell_type": "code",
   "execution_count": 30,
   "metadata": {},
   "outputs": [
    {
     "data": {
      "text/plain": [
       "70"
      ]
     },
     "execution_count": 30,
     "metadata": {},
     "output_type": "execute_result"
    }
   ],
   "source": [
    "# Initialize network\n",
    "num = 100000\n",
    "maxcard = 70\n",
    "N = zeros(num, 2);\n",
    "N[:, 1] = collect(1:num);\n",
    "for i = 1:maxcard\n",
    "    N[i, 2] = rand(DiscreteUniform(0, i-1), 1)[1,1]\n",
    "end\n",
    "N[maxcard+1:end, 2] = rand(DiscreteUniform(0, maxcard), num-maxcard);\n",
    "N = Array{Int64}(N);\n",
    "maximum(N[:,2])"
   ]
  },
  {
   "cell_type": "code",
   "execution_count": 31,
   "metadata": {},
   "outputs": [
    {
     "data": {
      "text/plain": [
       "99598"
      ]
     },
     "execution_count": 31,
     "metadata": {},
     "output_type": "execute_result"
    }
   ],
   "source": [
    "# Randomly select sets of eligible suppliers\n",
    "E = zeros(num, maxcard);\n",
    "for j = 1:num\n",
    "    temp = sample(N[1:j-1, 1], N[j,2]; replace=false, ordered=true)\n",
    "    for i = 1:N[j, 2]\n",
    "        E[j,i] = temp[i,1]\n",
    "    end\n",
    "end\n",
    "E = Array{Int64}(E);\n",
    "maximum(E[:,maxcard])"
   ]
  },
  {
   "cell_type": "code",
   "execution_count": 32,
   "metadata": {},
   "outputs": [],
   "source": [
    "# Randomly assign import/export decisions\n",
    "F = rand(num, 2);\n",
    "for j = 1:num\n",
    "    if F[j,1] < 0.19\n",
    "        F[j,1] = 1 \n",
    "    else \n",
    "        F[j,1] = 0\n",
    "    end\n",
    "    if F[j,2] < 0.12\n",
    "        F[j,2] = 1 \n",
    "    else \n",
    "        F[j,2] = 0\n",
    "    end\n",
    "end\n",
    "F = Array{Int64}(F);"
   ]
  },
  {
   "cell_type": "code",
   "execution_count": 33,
   "metadata": {},
   "outputs": [
    {
     "name": "stdout",
     "output_type": "stream",
     "text": [
      "18900\n",
      "12078\n"
     ]
    }
   ],
   "source": [
    "# Check if moments matched\n",
    "println(sum(F[:,1])) # num. importers\n",
    "println(sum(F[:,2])) # num. exporters"
   ]
  },
  {
   "cell_type": "code",
   "execution_count": 34,
   "metadata": {},
   "outputs": [],
   "source": [
    "# Concatenate (N,E,F) to one network matrix\n",
    "Net = hcat(N, E, F);"
   ]
  },
  {
   "cell_type": "markdown",
   "metadata": {},
   "source": [
    "In initializing the network, I made no effort to match the covariances between any two of (i) firm productivity, (ii) importing decision, (iii) exporting decision, (iv) cost shares, or (v) position in the network. In reality, I'd expect, for example, that more productive firms would be more likely to export. I abstract from these considerations for simplicity."
   ]
  },
  {
   "cell_type": "markdown",
   "metadata": {},
   "source": [
    "### Assigning Firm Characteristics\n",
    "\n",
    "I now assign firm characteristics according to the distributions listed at the outset. Again, I do not consider any covariance among firm characteristics or between firm characteristics and the network."
   ]
  },
  {
   "cell_type": "code",
   "execution_count": 35,
   "metadata": {},
   "outputs": [],
   "source": [
    "# Initialize parameters\n",
    "Phi_ADscale = -4.42;\n",
    "Phi_AFscale = -2.22;\n",
    "Phi_BFscale = -2.01;\n",
    "Phi_ABdisp = 2.34;\n",
    "Phi_FDscale = -3.21;\n",
    "Phi_FIscale = 2.64;\n",
    "Phi_FEscale = 6.75;\n",
    "Phi_Fdisp = 6.98;\n",
    "\n",
    "# Draw firm characteristics\n",
    "A = zeros(num, 8);\n",
    "A[:,1] = rand(LogNormal(-1.52, 0.85), num); # \\phi_j\n",
    "A[:,2] = rand(Beta(0.1, 0.9), num); # X_j\n",
    "A[:,3] = rand(LogNormal(Phi_ADscale, Phi_ABdisp), num); # Y_{kj} for all k\n",
    "A[:,4] = rand(LogNormal(Phi_AFscale, Phi_ABdisp), num); # \\alpha_{Fj}\n",
    "A[:,5] = rand(LogNormal(Phi_BFscale, Phi_ABdisp), num); # \\beta_{jF}\n",
    "A[:,6] = rand(LogNormal(Phi_FDscale, Phi_Fdisp), num); # f_{kj} for all k\n",
    "A[:,7] = rand(LogNormal(Phi_FIscale, Phi_Fdisp), num); # f_{Fj}\n",
    "A[:,8] = rand(LogNormal(Phi_FEscale, Phi_Fdisp), num); # f_{jF}\n",
    "\n",
    "\n",
    "# Concatenate network and firm characteristics\n",
    "Net = hcat(Net, A);"
   ]
  },
  {
   "cell_type": "markdown",
   "metadata": {},
   "source": [
    "### Simulating the Economy\n",
    "\n",
    "Recall the definition of a competitive equilibrium with a fixed network: Given foreign expenditure $E_f$, foreign price index $P_F$, and a set of prices set by foreign suppliers $\\{p_{Fj}\\}$, an equilibrium for the model with a fixed production network and fixed export participation is \n",
    "+ a wage level $w$,\n",
    "+ a consumer price index $P$, and\n",
    "+ aggregate expenditure $E$\n",
    "\n",
    "such that equations $(5)$, $(7)-(9)$, and $(13)-(17)$ from TKMD (2018) hold. \n",
    "\n",
    "Recall that firms sell to final consumers at a *constant markup* over marginal cost but sell to other firms *at* marginal cost. Moreover, recall that the network is *acyclic*, so each firm can only use the output of its predecessors (and labor) to produce.\n",
    "\n",
    "Because the network is fixed and all import/export decisions are taken as given here, **all fixed costs will be ignored.** "
   ]
  },
  {
   "cell_type": "code",
   "execution_count": 67,
   "metadata": {},
   "outputs": [
    {
     "name": "stdout",
     "output_type": "stream",
     "text": [
      "2144.949681547816\n",
      "240.1955097034708\n"
     ]
    }
   ],
   "source": [
    "# Calibrate elasticities and labor supply\n",
    "sigma = 4.0;\n",
    "rho = 2.0;\n",
    "w = 10000.0;\n",
    "tau = 1.1;\n",
    "mu = sigma / (sigma - 1);\n",
    "\n",
    "# Arbitrarily choose foreign variable price vector\n",
    "p_F = 50*rand(num,1);\n",
    "P_F = (sum(p_F.^(1-sigma)))^(1/(sigma-1));\n",
    "E_F = ((w * mu) / P_F)^(sigma-1)\n",
    "println(P_F)\n",
    "println(E_F)\n",
    "# Compute equilibrium\n",
    "# L, E, P, S = Crews_FixNetEquil(Net, w, E, tau, sigma, rho, E_F, P_F, p_F);\n",
    "# println(\"Solution: L = \", L, \" E = \", E, \" P = \", P)\n",
    "# Instead of calling this function, I lay out each step explicitly in the cells below"
   ]
  },
  {
   "cell_type": "code",
   "execution_count": 68,
   "metadata": {},
   "outputs": [],
   "source": [
    "# Retrieve number of firms in simulation\n",
    "N = Net;    \n",
    "cards = N[:,2];\n",
    "\n",
    "# Retrieve firm characteristic vectors\n",
    "IndI = N[:,maxcard+3];\n",
    "IndE = N[:,maxcard+4];\n",
    "phi = N[:,maxcard+5];\n",
    "X = N[:,maxcard+6];\n",
    "Y = N[:,maxcard+7];\n",
    "alpha_F = N[:,maxcard+8];\n",
    "beta_F = N[:,maxcard+9];"
   ]
  },
  {
   "cell_type": "code",
   "execution_count": 69,
   "metadata": {},
   "outputs": [
    {
     "data": {
      "text/plain": [
       "3002.0139587662925"
      ]
     },
     "execution_count": 69,
     "metadata": {},
     "output_type": "execute_result"
    }
   ],
   "source": [
    "c = zeros(num,1)\n",
    "Theta = zeros(num,1)\n",
    "for j=1:num\n",
    "    Z = Net[j,3:maxcard+2]\n",
    "    filter!(e -> e>0, Z)\n",
    "    Z = Array{Int64}(Z)\n",
    "    costsum = 0\n",
    "    for i = Z\n",
    "        temp = (X[i,1]*Y[j,1])^(rho-1)*(c[i,1])^(1-rho)\n",
    "        costsum += temp\n",
    "    end\n",
    "    costsum += IndI[j,1]*(alpha_F[j,1])^(rho-1)*(p_F[j,1])^(1-rho)\n",
    "    Theta[j,1] = costsum + w^(1-rho)\n",
    "    c[j,1] = (1/phi[j,1])*(costsum + w^(1-rho))^(1/(1-rho))\n",
    "end\n",
    "p_H = mu .* c\n",
    "P = (sum(p_H.^(1-sigma)))^(1/(sigma-1))"
   ]
  },
  {
   "cell_type": "code",
   "execution_count": 70,
   "metadata": {},
   "outputs": [],
   "source": [
    "# Initialize sparse matrix\n",
    "cnx = Int64.(sum(cards[1:num,1]))\n",
    "J = Array{Int64}(zeros(2*cnx+2*num))\n",
    "K = Array{Int64}(zeros(2*cnx+2*num))\n",
    "V = zeros(2*cnx+2*num)\n",
    "J[1:2] = [1, 1]\n",
    "K[1] = num+1\n",
    "K[2] = num+2\n",
    "V[1] = (w^(1-rho)) / (Theta[1,1])\n",
    "V[2] = IndI[1,1]*(alpha_F[1,1])^(rho-1)*(p_F[1,1])^(1-rho) / (Theta[1,1]);"
   ]
  },
  {
   "cell_type": "code",
   "execution_count": 71,
   "metadata": {},
   "outputs": [
    {
     "data": {
      "text/plain": [
       "100000×100002 SparseMatrixCSC{Float64,Int64} with 3705235 stored entries:\n",
       "  [5     ,      1]  =  5.84363e-5\n",
       "  [8     ,      1]  =  0.000332105\n",
       "  [10    ,      1]  =  1.98059e-6\n",
       "  [12    ,      1]  =  8.53134e-5\n",
       "  [13    ,      1]  =  2.05923e-6\n",
       "  [14    ,      1]  =  1.46475e-5\n",
       "  [17    ,      1]  =  0.000134613\n",
       "  [24    ,      1]  =  2.58964e-5\n",
       "  [25    ,      1]  =  0.000116951\n",
       "  [26    ,      1]  =  3.99197e-5\n",
       "  [27    ,      1]  =  3.6492e-5\n",
       "  [28    ,      1]  =  5.07784e-5\n",
       "  ⋮\n",
       "  [99989 , 100002]  =  0.0\n",
       "  [99990 , 100002]  =  0.0\n",
       "  [99991 , 100002]  =  0.0\n",
       "  [99992 , 100002]  =  0.0\n",
       "  [99993 , 100002]  =  0.0\n",
       "  [99994 , 100002]  =  0.0\n",
       "  [99995 , 100002]  =  0.0\n",
       "  [99996 , 100002]  =  0.0\n",
       "  [99997 , 100002]  =  0.866816\n",
       "  [99998 , 100002]  =  0.0\n",
       "  [99999 , 100002]  =  0.0\n",
       "  [100000, 100002]  =  0.0"
      ]
     },
     "execution_count": 71,
     "metadata": {},
     "output_type": "execute_result"
    }
   ],
   "source": [
    "for j=2:num\n",
    "    index = findfirst(x -> x == 0, J)\n",
    "    jcard = Int64.(cards[j,1])\n",
    "    J[index:index+jcard+1] = repeat([j],jcard+2)\n",
    "    K[index+jcard] = num+1 #column for labor share\n",
    "    K[index+jcard+1] = num+2 #column for direct import share\n",
    "    V[index+jcard] = (w^(1-rho)) / (Theta[j,1])\n",
    "    V[index+jcard+1] = IndI[j,1]*(alpha_F[j,1])^(rho-1)*(p_F[j,1])^(1-rho) / (Theta[j,1])\n",
    "    \n",
    "    # direct firm-to-firm shares\n",
    "    Z = Net[j,3:maxcard+2]\n",
    "    filter!(e -> e>0, Z)\n",
    "    Z = Array{Int64}(Z)\n",
    "    temp = zeros(length(Z)) \n",
    "    for k = 1:length(Z)\n",
    "        temp[k] = (X[Z[k],1]*Y[j,1])^(rho-1)*(c[Z[k],1])^(1-rho) / (Theta[j,1]) # = S[k,j]\n",
    "    end\n",
    "    if jcard > 0\n",
    "        K[index:index+jcard-1] = Z\n",
    "        V[index:index+jcard-1] = temp\n",
    "    end\n",
    "end\n",
    "filter!(e -> e>0, J)\n",
    "K = K[1:length(J)]\n",
    "V = V[1:length(J)]\n",
    "S = sparse(J,K,V)"
   ]
  },
  {
   "cell_type": "code",
   "execution_count": 72,
   "metadata": {},
   "outputs": [
    {
     "data": {
      "text/plain": [
       "\u001b[1m                       Sparsity Pattern\u001b[22m\n",
       "\u001b[90m          ┌──────────────────────────────────────────┐\u001b[39m    \n",
       "        \u001b[90m1\u001b[39m\u001b[90m │\u001b[39m\u001b[31m⣷\u001b[39m\u001b[31m⣄\u001b[39m\u001b[0m⠀\u001b[0m⠀\u001b[0m⠀\u001b[0m⠀\u001b[0m⠀\u001b[0m⠀\u001b[0m⠀\u001b[0m⠀\u001b[0m⠀\u001b[0m⠀\u001b[0m⠀\u001b[0m⠀\u001b[0m⠀\u001b[0m⠀\u001b[0m⠀\u001b[0m⠀\u001b[0m⠀\u001b[0m⠀\u001b[0m⠀\u001b[0m⠀\u001b[0m⠀\u001b[0m⠀\u001b[0m⠀\u001b[0m⠀\u001b[0m⠀\u001b[0m⠀\u001b[0m⠀\u001b[0m⠀\u001b[0m⠀\u001b[0m⠀\u001b[0m⠀\u001b[0m⠀\u001b[0m⠀\u001b[0m⠀\u001b[0m⠀\u001b[0m⠀\u001b[0m⠀\u001b[0m⠀\u001b[0m⠀\u001b[35m⢸\u001b[39m\u001b[90m│\u001b[39m \u001b[31m> 0\u001b[39m\n",
       "         \u001b[90m │\u001b[39m\u001b[31m⣿\u001b[39m\u001b[31m⣿\u001b[39m\u001b[31m⣷\u001b[39m\u001b[31m⣄\u001b[39m\u001b[0m⠀\u001b[0m⠀\u001b[0m⠀\u001b[0m⠀\u001b[0m⠀\u001b[0m⠀\u001b[0m⠀\u001b[0m⠀\u001b[0m⠀\u001b[0m⠀\u001b[0m⠀\u001b[0m⠀\u001b[0m⠀\u001b[0m⠀\u001b[0m⠀\u001b[0m⠀\u001b[0m⠀\u001b[0m⠀\u001b[0m⠀\u001b[0m⠀\u001b[0m⠀\u001b[0m⠀\u001b[0m⠀\u001b[0m⠀\u001b[0m⠀\u001b[0m⠀\u001b[0m⠀\u001b[0m⠀\u001b[0m⠀\u001b[0m⠀\u001b[0m⠀\u001b[0m⠀\u001b[0m⠀\u001b[0m⠀\u001b[0m⠀\u001b[0m⠀\u001b[0m⠀\u001b[35m⢸\u001b[39m\u001b[90m│\u001b[39m \u001b[34m< 0\u001b[39m\n",
       "         \u001b[90m │\u001b[39m\u001b[31m⣿\u001b[39m\u001b[31m⣿\u001b[39m\u001b[31m⣿\u001b[39m\u001b[31m⣿\u001b[39m\u001b[31m⣷\u001b[39m\u001b[31m⣄\u001b[39m\u001b[0m⠀\u001b[0m⠀\u001b[0m⠀\u001b[0m⠀\u001b[0m⠀\u001b[0m⠀\u001b[0m⠀\u001b[0m⠀\u001b[0m⠀\u001b[0m⠀\u001b[0m⠀\u001b[0m⠀\u001b[0m⠀\u001b[0m⠀\u001b[0m⠀\u001b[0m⠀\u001b[0m⠀\u001b[0m⠀\u001b[0m⠀\u001b[0m⠀\u001b[0m⠀\u001b[0m⠀\u001b[0m⠀\u001b[0m⠀\u001b[0m⠀\u001b[0m⠀\u001b[0m⠀\u001b[0m⠀\u001b[0m⠀\u001b[0m⠀\u001b[0m⠀\u001b[0m⠀\u001b[0m⠀\u001b[0m⠀\u001b[0m⠀\u001b[35m⢸\u001b[39m\u001b[90m│\u001b[39m    \n",
       "         \u001b[90m │\u001b[39m\u001b[31m⣿\u001b[39m\u001b[31m⣿\u001b[39m\u001b[31m⣿\u001b[39m\u001b[31m⣿\u001b[39m\u001b[31m⣿\u001b[39m\u001b[31m⣿\u001b[39m\u001b[31m⣷\u001b[39m\u001b[31m⣄\u001b[39m\u001b[0m⠀\u001b[0m⠀\u001b[0m⠀\u001b[0m⠀\u001b[0m⠀\u001b[0m⠀\u001b[0m⠀\u001b[0m⠀\u001b[0m⠀\u001b[0m⠀\u001b[0m⠀\u001b[0m⠀\u001b[0m⠀\u001b[0m⠀\u001b[0m⠀\u001b[0m⠀\u001b[0m⠀\u001b[0m⠀\u001b[0m⠀\u001b[0m⠀\u001b[0m⠀\u001b[0m⠀\u001b[0m⠀\u001b[0m⠀\u001b[0m⠀\u001b[0m⠀\u001b[0m⠀\u001b[0m⠀\u001b[0m⠀\u001b[0m⠀\u001b[0m⠀\u001b[0m⠀\u001b[0m⠀\u001b[35m⢸\u001b[39m\u001b[90m│\u001b[39m    \n",
       "         \u001b[90m │\u001b[39m\u001b[31m⣿\u001b[39m\u001b[31m⣿\u001b[39m\u001b[31m⣿\u001b[39m\u001b[31m⣿\u001b[39m\u001b[31m⣿\u001b[39m\u001b[31m⣿\u001b[39m\u001b[31m⣿\u001b[39m\u001b[31m⣿\u001b[39m\u001b[31m⣷\u001b[39m\u001b[31m⣄\u001b[39m\u001b[0m⠀\u001b[0m⠀\u001b[0m⠀\u001b[0m⠀\u001b[0m⠀\u001b[0m⠀\u001b[0m⠀\u001b[0m⠀\u001b[0m⠀\u001b[0m⠀\u001b[0m⠀\u001b[0m⠀\u001b[0m⠀\u001b[0m⠀\u001b[0m⠀\u001b[0m⠀\u001b[0m⠀\u001b[0m⠀\u001b[0m⠀\u001b[0m⠀\u001b[0m⠀\u001b[0m⠀\u001b[0m⠀\u001b[0m⠀\u001b[0m⠀\u001b[0m⠀\u001b[0m⠀\u001b[0m⠀\u001b[0m⠀\u001b[0m⠀\u001b[0m⠀\u001b[35m⢸\u001b[39m\u001b[90m│\u001b[39m    \n",
       "         \u001b[90m │\u001b[39m\u001b[31m⣿\u001b[39m\u001b[31m⣿\u001b[39m\u001b[31m⣿\u001b[39m\u001b[31m⣿\u001b[39m\u001b[31m⣿\u001b[39m\u001b[31m⣿\u001b[39m\u001b[31m⣿\u001b[39m\u001b[31m⣿\u001b[39m\u001b[31m⣿\u001b[39m\u001b[31m⣿\u001b[39m\u001b[31m⣷\u001b[39m\u001b[31m⣄\u001b[39m\u001b[0m⠀\u001b[0m⠀\u001b[0m⠀\u001b[0m⠀\u001b[0m⠀\u001b[0m⠀\u001b[0m⠀\u001b[0m⠀\u001b[0m⠀\u001b[0m⠀\u001b[0m⠀\u001b[0m⠀\u001b[0m⠀\u001b[0m⠀\u001b[0m⠀\u001b[0m⠀\u001b[0m⠀\u001b[0m⠀\u001b[0m⠀\u001b[0m⠀\u001b[0m⠀\u001b[0m⠀\u001b[0m⠀\u001b[0m⠀\u001b[0m⠀\u001b[0m⠀\u001b[0m⠀\u001b[0m⠀\u001b[0m⠀\u001b[35m⢸\u001b[39m\u001b[90m│\u001b[39m    \n",
       "         \u001b[90m │\u001b[39m\u001b[31m⣿\u001b[39m\u001b[31m⣿\u001b[39m\u001b[31m⣿\u001b[39m\u001b[31m⣿\u001b[39m\u001b[31m⣿\u001b[39m\u001b[31m⣿\u001b[39m\u001b[31m⣿\u001b[39m\u001b[31m⣿\u001b[39m\u001b[31m⣿\u001b[39m\u001b[31m⣿\u001b[39m\u001b[31m⣿\u001b[39m\u001b[31m⣿\u001b[39m\u001b[31m⣷\u001b[39m\u001b[31m⣄\u001b[39m\u001b[0m⠀\u001b[0m⠀\u001b[0m⠀\u001b[0m⠀\u001b[0m⠀\u001b[0m⠀\u001b[0m⠀\u001b[0m⠀\u001b[0m⠀\u001b[0m⠀\u001b[0m⠀\u001b[0m⠀\u001b[0m⠀\u001b[0m⠀\u001b[0m⠀\u001b[0m⠀\u001b[0m⠀\u001b[0m⠀\u001b[0m⠀\u001b[0m⠀\u001b[0m⠀\u001b[0m⠀\u001b[0m⠀\u001b[0m⠀\u001b[0m⠀\u001b[0m⠀\u001b[0m⠀\u001b[35m⢸\u001b[39m\u001b[90m│\u001b[39m    \n",
       "         \u001b[90m │\u001b[39m\u001b[31m⣿\u001b[39m\u001b[31m⣿\u001b[39m\u001b[31m⣿\u001b[39m\u001b[31m⣿\u001b[39m\u001b[31m⣿\u001b[39m\u001b[31m⣿\u001b[39m\u001b[31m⣿\u001b[39m\u001b[31m⣿\u001b[39m\u001b[31m⣿\u001b[39m\u001b[31m⣿\u001b[39m\u001b[31m⣿\u001b[39m\u001b[31m⣿\u001b[39m\u001b[31m⣿\u001b[39m\u001b[31m⣿\u001b[39m\u001b[31m⣷\u001b[39m\u001b[31m⣄\u001b[39m\u001b[0m⠀\u001b[0m⠀\u001b[0m⠀\u001b[0m⠀\u001b[0m⠀\u001b[0m⠀\u001b[0m⠀\u001b[0m⠀\u001b[0m⠀\u001b[0m⠀\u001b[0m⠀\u001b[0m⠀\u001b[0m⠀\u001b[0m⠀\u001b[0m⠀\u001b[0m⠀\u001b[0m⠀\u001b[0m⠀\u001b[0m⠀\u001b[0m⠀\u001b[0m⠀\u001b[0m⠀\u001b[0m⠀\u001b[0m⠀\u001b[0m⠀\u001b[35m⢸\u001b[39m\u001b[90m│\u001b[39m    \n",
       "         \u001b[90m │\u001b[39m\u001b[31m⣿\u001b[39m\u001b[31m⣿\u001b[39m\u001b[31m⣿\u001b[39m\u001b[31m⣿\u001b[39m\u001b[31m⣿\u001b[39m\u001b[31m⣿\u001b[39m\u001b[31m⣿\u001b[39m\u001b[31m⣿\u001b[39m\u001b[31m⣿\u001b[39m\u001b[31m⣿\u001b[39m\u001b[31m⣿\u001b[39m\u001b[31m⣿\u001b[39m\u001b[31m⣿\u001b[39m\u001b[31m⣿\u001b[39m\u001b[31m⣿\u001b[39m\u001b[31m⣿\u001b[39m\u001b[31m⣷\u001b[39m\u001b[31m⣄\u001b[39m\u001b[0m⠀\u001b[0m⠀\u001b[0m⠀\u001b[0m⠀\u001b[0m⠀\u001b[0m⠀\u001b[0m⠀\u001b[0m⠀\u001b[0m⠀\u001b[0m⠀\u001b[0m⠀\u001b[0m⠀\u001b[0m⠀\u001b[0m⠀\u001b[0m⠀\u001b[0m⠀\u001b[0m⠀\u001b[0m⠀\u001b[0m⠀\u001b[0m⠀\u001b[0m⠀\u001b[0m⠀\u001b[0m⠀\u001b[35m⢸\u001b[39m\u001b[90m│\u001b[39m    \n",
       "         \u001b[90m │\u001b[39m\u001b[31m⣿\u001b[39m\u001b[31m⣿\u001b[39m\u001b[31m⣿\u001b[39m\u001b[31m⣿\u001b[39m\u001b[31m⣿\u001b[39m\u001b[31m⣿\u001b[39m\u001b[31m⣿\u001b[39m\u001b[31m⣿\u001b[39m\u001b[31m⣿\u001b[39m\u001b[31m⣿\u001b[39m\u001b[31m⣿\u001b[39m\u001b[31m⣿\u001b[39m\u001b[31m⣿\u001b[39m\u001b[31m⣿\u001b[39m\u001b[31m⣿\u001b[39m\u001b[31m⣿\u001b[39m\u001b[31m⣿\u001b[39m\u001b[31m⣿\u001b[39m\u001b[31m⣷\u001b[39m\u001b[31m⣄\u001b[39m\u001b[0m⠀\u001b[0m⠀\u001b[0m⠀\u001b[0m⠀\u001b[0m⠀\u001b[0m⠀\u001b[0m⠀\u001b[0m⠀\u001b[0m⠀\u001b[0m⠀\u001b[0m⠀\u001b[0m⠀\u001b[0m⠀\u001b[0m⠀\u001b[0m⠀\u001b[0m⠀\u001b[0m⠀\u001b[0m⠀\u001b[0m⠀\u001b[0m⠀\u001b[0m⠀\u001b[35m⢸\u001b[39m\u001b[90m│\u001b[39m    \n",
       "         \u001b[90m │\u001b[39m\u001b[31m⣿\u001b[39m\u001b[31m⣿\u001b[39m\u001b[31m⣿\u001b[39m\u001b[31m⣿\u001b[39m\u001b[31m⣿\u001b[39m\u001b[31m⣿\u001b[39m\u001b[31m⣿\u001b[39m\u001b[31m⣿\u001b[39m\u001b[31m⣿\u001b[39m\u001b[31m⣿\u001b[39m\u001b[31m⣿\u001b[39m\u001b[31m⣿\u001b[39m\u001b[31m⣿\u001b[39m\u001b[31m⣿\u001b[39m\u001b[31m⣿\u001b[39m\u001b[31m⣿\u001b[39m\u001b[31m⣿\u001b[39m\u001b[31m⣿\u001b[39m\u001b[31m⣿\u001b[39m\u001b[31m⣿\u001b[39m\u001b[31m⣷\u001b[39m\u001b[31m⣄\u001b[39m\u001b[0m⠀\u001b[0m⠀\u001b[0m⠀\u001b[0m⠀\u001b[0m⠀\u001b[0m⠀\u001b[0m⠀\u001b[0m⠀\u001b[0m⠀\u001b[0m⠀\u001b[0m⠀\u001b[0m⠀\u001b[0m⠀\u001b[0m⠀\u001b[0m⠀\u001b[0m⠀\u001b[0m⠀\u001b[0m⠀\u001b[0m⠀\u001b[35m⢸\u001b[39m\u001b[90m│\u001b[39m    \n",
       "         \u001b[90m │\u001b[39m\u001b[31m⣿\u001b[39m\u001b[31m⣿\u001b[39m\u001b[31m⣿\u001b[39m\u001b[31m⣿\u001b[39m\u001b[31m⣿\u001b[39m\u001b[31m⣿\u001b[39m\u001b[31m⣿\u001b[39m\u001b[31m⣿\u001b[39m\u001b[31m⣿\u001b[39m\u001b[31m⣿\u001b[39m\u001b[31m⣿\u001b[39m\u001b[31m⣿\u001b[39m\u001b[31m⣿\u001b[39m\u001b[31m⣿\u001b[39m\u001b[31m⣿\u001b[39m\u001b[31m⣿\u001b[39m\u001b[31m⣿\u001b[39m\u001b[31m⣿\u001b[39m\u001b[31m⣿\u001b[39m\u001b[31m⣿\u001b[39m\u001b[31m⣿\u001b[39m\u001b[31m⣿\u001b[39m\u001b[31m⣷\u001b[39m\u001b[31m⣄\u001b[39m\u001b[0m⠀\u001b[0m⠀\u001b[0m⠀\u001b[0m⠀\u001b[0m⠀\u001b[0m⠀\u001b[0m⠀\u001b[0m⠀\u001b[0m⠀\u001b[0m⠀\u001b[0m⠀\u001b[0m⠀\u001b[0m⠀\u001b[0m⠀\u001b[0m⠀\u001b[0m⠀\u001b[0m⠀\u001b[35m⢸\u001b[39m\u001b[90m│\u001b[39m    \n",
       "         \u001b[90m │\u001b[39m\u001b[31m⣿\u001b[39m\u001b[31m⣿\u001b[39m\u001b[31m⣿\u001b[39m\u001b[31m⣿\u001b[39m\u001b[31m⣿\u001b[39m\u001b[31m⣿\u001b[39m\u001b[31m⣿\u001b[39m\u001b[31m⣿\u001b[39m\u001b[31m⣿\u001b[39m\u001b[31m⣿\u001b[39m\u001b[31m⣿\u001b[39m\u001b[31m⣿\u001b[39m\u001b[31m⣿\u001b[39m\u001b[31m⣿\u001b[39m\u001b[31m⣿\u001b[39m\u001b[31m⣿\u001b[39m\u001b[31m⣿\u001b[39m\u001b[31m⣿\u001b[39m\u001b[31m⣿\u001b[39m\u001b[31m⣿\u001b[39m\u001b[31m⣿\u001b[39m\u001b[31m⣿\u001b[39m\u001b[31m⣿\u001b[39m\u001b[31m⣿\u001b[39m\u001b[31m⣷\u001b[39m\u001b[31m⣄\u001b[39m\u001b[0m⠀\u001b[0m⠀\u001b[0m⠀\u001b[0m⠀\u001b[0m⠀\u001b[0m⠀\u001b[0m⠀\u001b[0m⠀\u001b[0m⠀\u001b[0m⠀\u001b[0m⠀\u001b[0m⠀\u001b[0m⠀\u001b[0m⠀\u001b[0m⠀\u001b[35m⢸\u001b[39m\u001b[90m│\u001b[39m    \n",
       "         \u001b[90m │\u001b[39m\u001b[31m⣿\u001b[39m\u001b[31m⣿\u001b[39m\u001b[31m⣿\u001b[39m\u001b[31m⣿\u001b[39m\u001b[31m⣿\u001b[39m\u001b[31m⣿\u001b[39m\u001b[31m⣿\u001b[39m\u001b[31m⣿\u001b[39m\u001b[31m⣿\u001b[39m\u001b[31m⣿\u001b[39m\u001b[31m⣿\u001b[39m\u001b[31m⣿\u001b[39m\u001b[31m⣿\u001b[39m\u001b[31m⣿\u001b[39m\u001b[31m⣿\u001b[39m\u001b[31m⣿\u001b[39m\u001b[31m⣿\u001b[39m\u001b[31m⣿\u001b[39m\u001b[31m⣿\u001b[39m\u001b[31m⣿\u001b[39m\u001b[31m⣿\u001b[39m\u001b[31m⣿\u001b[39m\u001b[31m⣿\u001b[39m\u001b[31m⣿\u001b[39m\u001b[31m⣿\u001b[39m\u001b[31m⣿\u001b[39m\u001b[31m⣷\u001b[39m\u001b[31m⣄\u001b[39m\u001b[0m⠀\u001b[0m⠀\u001b[0m⠀\u001b[0m⠀\u001b[0m⠀\u001b[0m⠀\u001b[0m⠀\u001b[0m⠀\u001b[0m⠀\u001b[0m⠀\u001b[0m⠀\u001b[0m⠀\u001b[0m⠀\u001b[35m⢸\u001b[39m\u001b[90m│\u001b[39m    \n",
       "         \u001b[90m │\u001b[39m\u001b[31m⣿\u001b[39m\u001b[31m⣿\u001b[39m\u001b[31m⣿\u001b[39m\u001b[31m⣿\u001b[39m\u001b[31m⣿\u001b[39m\u001b[31m⣿\u001b[39m\u001b[31m⣿\u001b[39m\u001b[31m⣿\u001b[39m\u001b[31m⣿\u001b[39m\u001b[31m⣿\u001b[39m\u001b[31m⣿\u001b[39m\u001b[31m⣿\u001b[39m\u001b[31m⣿\u001b[39m\u001b[31m⣿\u001b[39m\u001b[31m⣿\u001b[39m\u001b[31m⣿\u001b[39m\u001b[31m⣿\u001b[39m\u001b[31m⣿\u001b[39m\u001b[31m⣿\u001b[39m\u001b[31m⣿\u001b[39m\u001b[31m⣿\u001b[39m\u001b[31m⣿\u001b[39m\u001b[31m⣿\u001b[39m\u001b[31m⣿\u001b[39m\u001b[31m⣿\u001b[39m\u001b[31m⣿\u001b[39m\u001b[31m⣿\u001b[39m\u001b[31m⣿\u001b[39m\u001b[31m⣷\u001b[39m\u001b[31m⣄\u001b[39m\u001b[0m⠀\u001b[0m⠀\u001b[0m⠀\u001b[0m⠀\u001b[0m⠀\u001b[0m⠀\u001b[0m⠀\u001b[0m⠀\u001b[0m⠀\u001b[0m⠀\u001b[0m⠀\u001b[35m⢸\u001b[39m\u001b[90m│\u001b[39m    \n",
       "         \u001b[90m │\u001b[39m\u001b[31m⣿\u001b[39m\u001b[31m⣿\u001b[39m\u001b[31m⣿\u001b[39m\u001b[31m⣿\u001b[39m\u001b[31m⣿\u001b[39m\u001b[31m⣿\u001b[39m\u001b[31m⣿\u001b[39m\u001b[31m⣿\u001b[39m\u001b[31m⣿\u001b[39m\u001b[31m⣿\u001b[39m\u001b[31m⣿\u001b[39m\u001b[31m⣿\u001b[39m\u001b[31m⣿\u001b[39m\u001b[31m⣿\u001b[39m\u001b[31m⣿\u001b[39m\u001b[31m⣿\u001b[39m\u001b[31m⣿\u001b[39m\u001b[31m⣿\u001b[39m\u001b[31m⣿\u001b[39m\u001b[31m⣿\u001b[39m\u001b[31m⣿\u001b[39m\u001b[31m⣿\u001b[39m\u001b[31m⣿\u001b[39m\u001b[31m⣿\u001b[39m\u001b[31m⣿\u001b[39m\u001b[31m⣿\u001b[39m\u001b[31m⣿\u001b[39m\u001b[31m⣿\u001b[39m\u001b[31m⣿\u001b[39m\u001b[31m⣿\u001b[39m\u001b[31m⣷\u001b[39m\u001b[31m⣄\u001b[39m\u001b[0m⠀\u001b[0m⠀\u001b[0m⠀\u001b[0m⠀\u001b[0m⠀\u001b[0m⠀\u001b[0m⠀\u001b[0m⠀\u001b[0m⠀\u001b[35m⢸\u001b[39m\u001b[90m│\u001b[39m    \n",
       "         \u001b[90m │\u001b[39m\u001b[31m⣿\u001b[39m\u001b[31m⣿\u001b[39m\u001b[31m⣿\u001b[39m\u001b[31m⣿\u001b[39m\u001b[31m⣿\u001b[39m\u001b[31m⣿\u001b[39m\u001b[31m⣿\u001b[39m\u001b[31m⣿\u001b[39m\u001b[31m⣿\u001b[39m\u001b[31m⣿\u001b[39m\u001b[31m⣿\u001b[39m\u001b[31m⣿\u001b[39m\u001b[31m⣿\u001b[39m\u001b[31m⣿\u001b[39m\u001b[31m⣿\u001b[39m\u001b[31m⣿\u001b[39m\u001b[31m⣿\u001b[39m\u001b[31m⣿\u001b[39m\u001b[31m⣿\u001b[39m\u001b[31m⣿\u001b[39m\u001b[31m⣿\u001b[39m\u001b[31m⣿\u001b[39m\u001b[31m⣿\u001b[39m\u001b[31m⣿\u001b[39m\u001b[31m⣿\u001b[39m\u001b[31m⣿\u001b[39m\u001b[31m⣿\u001b[39m\u001b[31m⣿\u001b[39m\u001b[31m⣿\u001b[39m\u001b[31m⣿\u001b[39m\u001b[31m⣿\u001b[39m\u001b[31m⣿\u001b[39m\u001b[31m⣷\u001b[39m\u001b[31m⣄\u001b[39m\u001b[0m⠀\u001b[0m⠀\u001b[0m⠀\u001b[0m⠀\u001b[0m⠀\u001b[0m⠀\u001b[0m⠀\u001b[35m⢸\u001b[39m\u001b[90m│\u001b[39m    \n",
       "         \u001b[90m │\u001b[39m\u001b[31m⣿\u001b[39m\u001b[31m⣿\u001b[39m\u001b[31m⣿\u001b[39m\u001b[31m⣿\u001b[39m\u001b[31m⣿\u001b[39m\u001b[31m⣿\u001b[39m\u001b[31m⣿\u001b[39m\u001b[31m⣿\u001b[39m\u001b[31m⣿\u001b[39m\u001b[31m⣿\u001b[39m\u001b[31m⣿\u001b[39m\u001b[31m⣿\u001b[39m\u001b[31m⣿\u001b[39m\u001b[31m⣿\u001b[39m\u001b[31m⣿\u001b[39m\u001b[31m⣿\u001b[39m\u001b[31m⣿\u001b[39m\u001b[31m⣿\u001b[39m\u001b[31m⣿\u001b[39m\u001b[31m⣿\u001b[39m\u001b[31m⣿\u001b[39m\u001b[31m⣿\u001b[39m\u001b[31m⣿\u001b[39m\u001b[31m⣿\u001b[39m\u001b[31m⣿\u001b[39m\u001b[31m⣿\u001b[39m\u001b[31m⣿\u001b[39m\u001b[31m⣿\u001b[39m\u001b[31m⣿\u001b[39m\u001b[31m⣿\u001b[39m\u001b[31m⣿\u001b[39m\u001b[31m⣿\u001b[39m\u001b[31m⣿\u001b[39m\u001b[31m⣿\u001b[39m\u001b[31m⣷\u001b[39m\u001b[31m⣄\u001b[39m\u001b[0m⠀\u001b[0m⠀\u001b[0m⠀\u001b[0m⠀\u001b[0m⠀\u001b[35m⢸\u001b[39m\u001b[90m│\u001b[39m    \n",
       "         \u001b[90m │\u001b[39m\u001b[31m⣿\u001b[39m\u001b[31m⣿\u001b[39m\u001b[31m⣿\u001b[39m\u001b[31m⣿\u001b[39m\u001b[31m⣿\u001b[39m\u001b[31m⣿\u001b[39m\u001b[31m⣿\u001b[39m\u001b[31m⣿\u001b[39m\u001b[31m⣿\u001b[39m\u001b[31m⣿\u001b[39m\u001b[31m⣿\u001b[39m\u001b[31m⣿\u001b[39m\u001b[31m⣿\u001b[39m\u001b[31m⣿\u001b[39m\u001b[31m⣿\u001b[39m\u001b[31m⣿\u001b[39m\u001b[31m⣿\u001b[39m\u001b[31m⣿\u001b[39m\u001b[31m⣿\u001b[39m\u001b[31m⣿\u001b[39m\u001b[31m⣿\u001b[39m\u001b[31m⣿\u001b[39m\u001b[31m⣿\u001b[39m\u001b[31m⣿\u001b[39m\u001b[31m⣿\u001b[39m\u001b[31m⣿\u001b[39m\u001b[31m⣿\u001b[39m\u001b[31m⣿\u001b[39m\u001b[31m⣿\u001b[39m\u001b[31m⣿\u001b[39m\u001b[31m⣿\u001b[39m\u001b[31m⣿\u001b[39m\u001b[31m⣿\u001b[39m\u001b[31m⣿\u001b[39m\u001b[31m⣿\u001b[39m\u001b[31m⣿\u001b[39m\u001b[31m⣷\u001b[39m\u001b[31m⣄\u001b[39m\u001b[0m⠀\u001b[0m⠀\u001b[0m⠀\u001b[35m⢸\u001b[39m\u001b[90m│\u001b[39m    \n",
       "         \u001b[90m │\u001b[39m\u001b[31m⣿\u001b[39m\u001b[31m⣿\u001b[39m\u001b[31m⣿\u001b[39m\u001b[31m⣿\u001b[39m\u001b[31m⣿\u001b[39m\u001b[31m⣿\u001b[39m\u001b[31m⣿\u001b[39m\u001b[31m⣿\u001b[39m\u001b[31m⣿\u001b[39m\u001b[31m⣿\u001b[39m\u001b[31m⣿\u001b[39m\u001b[31m⣿\u001b[39m\u001b[31m⣿\u001b[39m\u001b[31m⣿\u001b[39m\u001b[31m⣿\u001b[39m\u001b[31m⣿\u001b[39m\u001b[31m⣿\u001b[39m\u001b[31m⣿\u001b[39m\u001b[31m⣿\u001b[39m\u001b[31m⣿\u001b[39m\u001b[31m⣿\u001b[39m\u001b[31m⣿\u001b[39m\u001b[31m⣿\u001b[39m\u001b[31m⣿\u001b[39m\u001b[31m⣿\u001b[39m\u001b[31m⣿\u001b[39m\u001b[31m⣿\u001b[39m\u001b[31m⣿\u001b[39m\u001b[31m⣿\u001b[39m\u001b[31m⣿\u001b[39m\u001b[31m⣿\u001b[39m\u001b[31m⣿\u001b[39m\u001b[31m⣿\u001b[39m\u001b[31m⣿\u001b[39m\u001b[31m⣿\u001b[39m\u001b[31m⣿\u001b[39m\u001b[31m⣿\u001b[39m\u001b[31m⣿\u001b[39m\u001b[31m⣷\u001b[39m\u001b[31m⣄\u001b[39m\u001b[0m⠀\u001b[35m⢸\u001b[39m\u001b[90m│\u001b[39m    \n",
       "   \u001b[90m100000\u001b[39m\u001b[90m │\u001b[39m\u001b[31m⣿\u001b[39m\u001b[31m⣿\u001b[39m\u001b[31m⣿\u001b[39m\u001b[31m⣿\u001b[39m\u001b[31m⣿\u001b[39m\u001b[31m⣿\u001b[39m\u001b[31m⣿\u001b[39m\u001b[31m⣿\u001b[39m\u001b[31m⣿\u001b[39m\u001b[31m⣿\u001b[39m\u001b[31m⣿\u001b[39m\u001b[31m⣿\u001b[39m\u001b[31m⣿\u001b[39m\u001b[31m⣿\u001b[39m\u001b[31m⣿\u001b[39m\u001b[31m⣿\u001b[39m\u001b[31m⣿\u001b[39m\u001b[31m⣿\u001b[39m\u001b[31m⣿\u001b[39m\u001b[31m⣿\u001b[39m\u001b[31m⣿\u001b[39m\u001b[31m⣿\u001b[39m\u001b[31m⣿\u001b[39m\u001b[31m⣿\u001b[39m\u001b[31m⣿\u001b[39m\u001b[31m⣿\u001b[39m\u001b[31m⣿\u001b[39m\u001b[31m⣿\u001b[39m\u001b[31m⣿\u001b[39m\u001b[31m⣿\u001b[39m\u001b[31m⣿\u001b[39m\u001b[31m⣿\u001b[39m\u001b[31m⣿\u001b[39m\u001b[31m⣿\u001b[39m\u001b[31m⣿\u001b[39m\u001b[31m⣿\u001b[39m\u001b[31m⣿\u001b[39m\u001b[31m⣿\u001b[39m\u001b[31m⣿\u001b[39m\u001b[31m⣿\u001b[39m\u001b[31m⣷\u001b[39m\u001b[35m⣼\u001b[39m\u001b[90m│\u001b[39m    \n",
       "\u001b[90m          └──────────────────────────────────────────┘\u001b[39m    \n",
       "\u001b[90m          1\u001b[39m\u001b[90m                    \u001b[39m\u001b[90m                 100002\u001b[39m\n",
       "\u001b[0m                         nz = 3705235"
      ]
     },
     "execution_count": 72,
     "metadata": {},
     "output_type": "execute_result"
    }
   ],
   "source": [
    "spy(S)"
   ]
  },
  {
   "cell_type": "code",
   "execution_count": 92,
   "metadata": {},
   "outputs": [
    {
     "name": "stdout",
     "output_type": "stream",
     "text": [
      "The labor endowment that supports this equilibrium is L = NaN\n",
      "Equilibrium aggregate expenditure is E = NaN\n"
     ]
    }
   ],
   "source": [
    "# Newton's method to check that an equilibrium with this wage exists\n",
    "# Just need to ensure positive labor endowment\n",
    "E = 10 # initial guess\n",
    "DomHH = zeros(num,1)\n",
    "x = zeros(num,1)\n",
    "pi = zeros(num,1)\n",
    "L_S = 0\n",
    "L_D = 1\n",
    "iter = 0\n",
    "while abs(L_S - L_D) > 0.1\n",
    "    iter += 1\n",
    "    if iter > 100000\n",
    "        break\n",
    "    end\n",
    "    for j=1:num\n",
    "        Z = Net[j,3:maxcard+2]\n",
    "        filter!(e -> e>0, Z)\n",
    "        Z = Array{Int64}(Z)\n",
    "        domHH = (phi[j,1]*P / mu)^(sigma-1) * (Theta[j,1])^((sigma-1)/(rho-1)) * E\n",
    "        profHH = domHH / sigma\n",
    "        exports = IndE[j,1] * (phi[j,1]*beta_F[j,1]*P / (tau*mu))^(sigma-1) * (Theta[j,1])^((sigma-1)/(rho-1)) * E_F\n",
    "        profE = exports / sigma\n",
    "        domFirms = 0\n",
    "        for i = Z\n",
    "            domFirms += (phi[j,1]*X[j,1]*Y[i,1])^(rho-1) * (x[i,1]*c[i,1]) * (Theta[j,1] / Theta[i,1])\n",
    "        end\n",
    "        DomHH[j,1] = domHH\n",
    "        x[j,1] = domHH + exports + domFirms\n",
    "        pi[j,1] = profHH + profE\n",
    "    end\n",
    "    L_S = (E - sum(pi)) / w\n",
    "    L_D = sum(S[:,num+1] .* x[:,1] .* c[:,1]) / w\n",
    "    if abs(L_S - L_D) < 0.1\n",
    "        break\n",
    "    end\n",
    "    dLDdE = sum(S[:,num+1] .* DomHH[:,1] .* c[:,1]) / (w*E)\n",
    "    dLSdE = (1/w) - sum(DomHH[:,1]) / (sigma*w*E)\n",
    "    E = E - (L_S - L_D) / (dLSdE - dLDdE)\n",
    "end\n",
    "println(\"The labor endowment that supports this equilibrium is L = \", L_S)\n",
    "println(\"Equilibrium aggregate expenditure is E = \", E)"
   ]
  },
  {
   "cell_type": "markdown",
   "metadata": {},
   "source": [
    "### Checking Moments\n",
    "\n",
    "As already established, I am able to match the percentage of importers and exporters by construction. I hit the quantiles of the distribution of the number of suppliers quite well, but my distribution of labor shares is too spread out. I also overshoot the distribution of buyers, but there are still less buyers than suppliers at each percentile. Later I show that my distribution of total foreign input shares is also a bit too spread out."
   ]
  },
  {
   "cell_type": "code",
   "execution_count": 97,
   "metadata": {},
   "outputs": [
    {
     "name": "stdout",
     "output_type": "stream",
     "text": [
      "The p = 0.25 quantile of the distribution of labor cost shares is 0.0698940798463602\n",
      "The p = 0.25 quantile of the distribution of number of suppliers is 17.0\n",
      "The p = 0.25 quantile of the distribution of number of suppliers is 10.0\n",
      "The p = 0.5 quantile of the distribution of labor cost shares is 0.5557183530925464\n",
      "The p = 0.5 quantile of the distribution of number of suppliers is 35.0\n",
      "The p = 0.5 quantile of the distribution of number of suppliers is 24.0\n",
      "The p = 0.75 quantile of the distribution of labor cost shares is 0.952283929824875\n",
      "The p = 0.75 quantile of the distribution of number of suppliers is 53.0\n",
      "The p = 0.75 quantile of the distribution of number of suppliers is 49.0\n"
     ]
    }
   ],
   "source": [
    "for p = [0.25, 0.5, 0.75]\n",
    "    qShareLabor = quantile!(S[:, num+1], p)\n",
    "    qNumSupply = quantile!(N[:,2], p)\n",
    "    buyers = zeros(num,1)\n",
    "    for j = 1:num\n",
    "        buyers[j,1] = count(i -> i > 0, S[:,j])\n",
    "    end\n",
    "    qNumBuyers = quantile!(buyers[:,1], p)\n",
    "    println(\"The p = \", p, \" quantile of the distribution of labor cost shares is \", qShareLabor)\n",
    "    println(\"The p = \", p, \" quantile of the distribution of number of suppliers is \", qNumSupply)\n",
    "    println(\"The p = \", p, \" quantile of the distribution of number of suppliers is \", qNumBuyers)\n",
    "end"
   ]
  },
  {
   "cell_type": "markdown",
   "metadata": {},
   "source": [
    "### Calculating Foreign Input Shares"
   ]
  },
  {
   "cell_type": "code",
   "execution_count": 74,
   "metadata": {},
   "outputs": [],
   "source": [
    "totFshare = zeros(num,1);\n",
    "totFshare[1,1] = S[1,num+2];\n",
    "for j = 2:num\n",
    "    if N[j,2] == 0\n",
    "        totFshare[j,1] = S[j,num+2]\n",
    "    else\n",
    "        Z = Net[j,3:maxcard+2]\n",
    "        filter!(e -> e>0, Z)\n",
    "        Z = Array{Int64}(Z)\n",
    "        totFshare[j,1] = S[j,num+2]\n",
    "        for k = Z\n",
    "            totFshare[j,1] += S[j,k]*S[k,num+2]\n",
    "        end\n",
    "    end\n",
    "end"
   ]
  },
  {
   "cell_type": "code",
   "execution_count": 98,
   "metadata": {},
   "outputs": [
    {
     "name": "stdout",
     "output_type": "stream",
     "text": [
      "The p = 0.25 quantile of the distribution of labor cost shares is 0.006377823602301675\n",
      "The p = 0.5 quantile of the distribution of labor cost shares is 0.16677459842047285\n",
      "The p = 0.75 quantile of the distribution of labor cost shares is 0.800758712462581\n"
     ]
    }
   ],
   "source": [
    "for p = [0.25, 0.5, 0.75]\n",
    "    qtFs = quantile!(totFshare[:,1], p)\n",
    "    println(\"The p = \", p, \" quantile of the distribution of labor cost shares is \", qtFs)\n",
    "end"
   ]
  },
  {
   "cell_type": "code",
   "execution_count": 76,
   "metadata": {},
   "outputs": [
    {
     "data": {
      "text/plain": [
       "([44859.0, 7113.0, 4808.0, 3856.0, 3588.0, 3405.0, 3405.0, 3930.0, 5418.0, 19618.0], [0.0, 0.1, 0.2, 0.3, 0.4, 0.5, 0.6, 0.7, 0.8, 0.9, 1.0], PyCall.PyObject[PyObject <matplotlib.patches.Rectangle object at 0x0000000025F86D30>, PyObject <matplotlib.patches.Rectangle object at 0x0000000025F86B38>, PyObject <matplotlib.patches.Rectangle object at 0x0000000025F91358>, PyObject <matplotlib.patches.Rectangle object at 0x0000000025F916A0>, PyObject <matplotlib.patches.Rectangle object at 0x0000000025F919E8>, PyObject <matplotlib.patches.Rectangle object at 0x0000000025F91D30>, PyObject <matplotlib.patches.Rectangle object at 0x0000000025F9B0B8>, PyObject <matplotlib.patches.Rectangle object at 0x0000000025F9B400>, PyObject <matplotlib.patches.Rectangle object at 0x0000000025F9B748>, PyObject <matplotlib.patches.Rectangle object at 0x0000000025F9BA90>])"
      ]
     },
     "metadata": {},
     "output_type": "display_data"
    },
    {
     "data": {
      "image/png": "[encoded data removed]",
      "text/plain": [
       "Figure(PyObject <Figure size 640x480 with 1 Axes>)"
      ]
     },
     "metadata": {},
     "output_type": "display_data"
    }
   ],
   "source": [
    "plt = hist(totFshare)\n",
    "display(plt)"
   ]
  },
  {
   "cell_type": "markdown",
   "metadata": {},
   "source": [
    "### Calculating the Real Wage Change from Reversion to Autarky \n",
    "\n",
    "Following the discussion below equation (20) of TKMD (2018), the change in the real wage from reversion to autarky is\n",
    "$$\n",
    "\\Delta \\left( \\frac{w}{P} \\right) = \\left(\\sum_j s_{jH} \\left(1 - s_{Fj}^{Tot} \\right)^{\\frac{1-\\sigma}{1-\\rho}} \\right)^{\\frac{1}{\\sigma-1}}.\n",
    "$$\n",
    "In my simulation the corresponding percentage change is 56%, which is not too far in magnitude from the estimate of 44% in section 3.3 of TKMD (2018)."
   ]
  },
  {
   "cell_type": "code",
   "execution_count": 87,
   "metadata": {},
   "outputs": [
    {
     "name": "stdout",
     "output_type": "stream",
     "text": [
      "The percentage real wage change from reversion to autarky is roughly 56.0%\n"
     ]
    }
   ],
   "source": [
    "one = ones(num,1)\n",
    "sH = (p_H .^ (1-sigma)) / (P^(1-sigma))\n",
    "dRealWage = (sum(sH[:,1] .* ((one[:,1]-totFshare[:,1]).^((1-sigma)/(1-rho))))^(1/(sigma-1)))*100 / w\n",
    "dRealWage = ceil(dRealWage)\n",
    "println(\"The percentage real wage change from reversion to autarky is roughly \", dRealWage, \"%\")"
   ]
  },
  {
   "cell_type": "markdown",
   "metadata": {},
   "source": [
    "### The Effects of a 10% Foreign Price Increase"
   ]
  },
  {
   "cell_type": "code",
   "execution_count": 99,
   "metadata": {},
   "outputs": [
    {
     "data": {
      "text/plain": [
       "319.7002234153195"
      ]
     },
     "execution_count": 99,
     "metadata": {},
     "output_type": "execute_result"
    }
   ],
   "source": [
    "# 10% increase in foreign price\n",
    "p_F = 1.1 * p_F\n",
    "P_F = (sum(p_F.^(1-sigma)))^(1/(sigma-1));\n",
    "E_F = ((w * mu) / P_F)^(sigma-1)"
   ]
  }
 ],
 "metadata": {
  "kernelspec": {
   "display_name": "Julia 1.0.0",
   "language": "julia",
   "name": "julia-1.0"
  },
  "language_info": {
   "file_extension": ".jl",
   "mimetype": "application/julia",
   "name": "julia",
   "version": "1.0.0"
  }
 },
 "nbformat": 4,
 "nbformat_minor": 2
}
