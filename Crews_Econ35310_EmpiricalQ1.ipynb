{
 "cells": [
  {
   "cell_type": "markdown",
   "metadata": {},
   "source": [
    "# Empirical Assignment (Q1)\n",
    "## Economics 35310: Topics in Trade & Growth\n",
    "### Author: Levi Crews\n",
    "\n",
    "In this notebook I simulate an economy of 10,000 firms using the model from TKMD (2018). Firms are indexed from 1 to 10,000. Each set of eligible suppliers (max cardinality of 300) is drawn randomly from the set of firms whose indices precede that of the buyer. Each firm $j$ is characterized by\n",
    "+ its set of eligible suppliers that satisfies the ordering ($Z_j$)\n",
    "+ its core productivity level ($\\phi_j$)\n",
    "+ its vector of firm-pair-specific cost shifters ($\\alpha_{kj}$)\n",
    "+ its foreign input cost shifter ($\\alpha_{Fj}$)\n",
    "+ its foreign demand shifter ($\\beta_{jF}$)\n",
    "\n",
    "I normalize firms' labor productivity shifters, $\\alpha_{Lj} = 1$, and firms' domestic final demand shifters, $\\beta_{jH} = 1$. I parameterize firm characteristics in the following way:\n",
    "+ $\\alpha_{kj} = X_k \\times Y_{kj}$ with $X_k \\sim $ Beta(0.1, 0.9) and $Y_{kj} \\sim $ log-normal($\\Phi_{scale}^{\\alpha_{dom}}, \\Phi_{disp}^{\\alpha, \\beta}$) i.i.d.\n",
    "+ $\\alpha_{Fj} \\sim $ log-normal($\\Phi_{scale}^{\\alpha_F}, \\Phi_{disp}^{\\alpha, \\beta}$) i.i.d.\n",
    "+ $\\beta_{jF} \\sim $ log-normal($\\Phi_{scale}^{\\beta_F}, \\Phi_{disp}^{\\alpha, \\beta}$) i.i.d.\n",
    "\n",
    "For the 8 parameters $\\Phi$ I use the estimated values in Table 4 of TKMD (2018):\n",
    "\n",
    "| $\\Phi_{scale}^{\\alpha_{dom}}$ | $\\Phi_{scale}^{\\alpha_F}$ | $\\Phi_{scale}^{\\beta_F}$ | $\\Phi_{disp}^{\\alpha, \\beta}$ |\n",
    "|--|--|--|--|\n",
    "| -4.42 | -2.22 | -2.01 | 2.34 |\n",
    "\n",
    "In this simulation I try to match the following moments of the Belgian data presented in Table 5 of TKMD (2018):\n",
    "+ number of importing firms: 19,000\n",
    "+ number of exporting firms: 12,000\n",
    "+ labor share in cost: 0.17 / 0.34 / 0.54 (25/50/75 percentiles)\n",
    "+ productivity: $\\phi_j \\sim $ log-normal (-1.52, 0.85)\n",
    "+ total foreign input share: 0.24 / 0.39 / 0.55 (25/50/75 percentiles)\n",
    "+ number of domestic suppliers: 19 / 33 / 55 (25/50/75 percentiles)\n",
    "+ number of domestic customers: 2 / 9 / 34 (25/50/75 percentiles)\n",
    "\n",
    "Note that I normalized $\\frac{PE^{1/(\\sigma-1)}}{\\mu w} = 1$ to generate the productivity distribution. In addition, I calibrate $\\sigma = 4$ and $\\rho = 2$ following the baseline specification of TKMD (2018).\n",
    "\n",
    "I will then (i) calculate the total foreign input share for each simulated firm and (ii) calculate the real wage change from going to autarky.\n",
    "\n",
    "Finally, I will (iii) simulate a 10% increase in the import price and (iv) calculate the concomitant change in the real wage, holding the network fixed."
   ]
  },
  {
   "cell_type": "markdown",
   "metadata": {},
   "source": [
    "### Disclaimer\n",
    "\n",
    "I woefully fail at matching the *cost shares* and the *quartiles of the customer distribution*. I would link to think that fiddling with my distribution parameters could rectify this issue. That said, I apologize if there is a bug in my code."
   ]
  },
  {
   "cell_type": "code",
   "execution_count": 1,
   "metadata": {},
   "outputs": [],
   "source": [
    "# Load packages \n",
    "using Distributions, StatsBase, Random, Statistics\n",
    "using LinearAlgebra, SparseArrays, NLsolve, IterativeSolvers\n",
    "using Plots\n",
    "unicodeplots();"
   ]
  },
  {
   "cell_type": "code",
   "execution_count": 2,
   "metadata": {},
   "outputs": [],
   "source": [
    "# Load user-defined functions\n",
    "# Change path as needed\n",
    "include(\"C:\\\\Users\\\\levic\\\\Dropbox\\\\University-of-Chicago\\\\Academics\\\\2-SecondYear\\\\Econ35310-TradeGrowth\\\\Empirical-Project\\\\Crews_Econ35310_SparseShares.jl\");\n",
    "include(\"C:\\\\Users\\\\levic\\\\Dropbox\\\\University-of-Chicago\\\\Academics\\\\2-SecondYear\\\\Econ35310-TradeGrowth\\\\Empirical-Project\\\\Crews_Econ35310_FixNetEquil.jl\");"
   ]
  },
  {
   "cell_type": "code",
   "execution_count": 3,
   "metadata": {},
   "outputs": [],
   "source": [
    "# Set seed\n",
    "Random.seed!(4321);"
   ]
  },
  {
   "cell_type": "markdown",
   "metadata": {},
   "source": [
    "### Initializing the Acyclic Network\n",
    "\n",
    "I begin by generating an acyclic network. First, I index firms 1 to 10,000. Then, for each firm $j$ I draw the cardinality of its set of eligible domestic suppliers, $Z_j^D$ from a discretized log-normal(3.5, 0.8) distribution truncated at min$\\{j,$ 300$\\}$. With the cardinality of $Z_j^D$ in hand for each firm $j$, I then randomly select $|Z_j^D|$ indices $i$ such that $i < j$ for each firm $j$. After this, I randomly assign import/export decisions in order to match the number of importing and exporting firms from Table 5. This completes the network."
   ]
  },
  {
   "cell_type": "code",
   "execution_count": 4,
   "metadata": {},
   "outputs": [],
   "source": [
    "# Initialize network\n",
    "num = 10000 # note: I was running out of memory with 100,000 firms, so I did 10,000\n",
    "maxcard = 300\n",
    "Nmu = 3.5\n",
    "Nsigma = 0.8\n",
    "\n",
    "N = zeros(num, 2)\n",
    "N[:, 1] = collect(1:num)\n",
    "for i = 1:maxcard\n",
    "    temp = min(rand(LogNormal(Nmu, Nsigma)), i-1)\n",
    "    N[i, 2] = ceil(Int64, temp)\n",
    "end\n",
    "temp = min.(rand(LogNormal(Nmu, Nsigma), num-maxcard), maxcard*ones(num-maxcard,1))\n",
    "N[maxcard+1:end, 2] = ceil.(Int64, temp)\n",
    "N = Array{Int64}(N);"
   ]
  },
  {
   "cell_type": "code",
   "execution_count": 5,
   "metadata": {},
   "outputs": [],
   "source": [
    "# Randomly select sets of eligible suppliers\n",
    "E = zeros(num, maxcard)\n",
    "for j = 2:num\n",
    "    temp = sample(N[1:j-1, 1], N[j,2]; replace=false, ordered=true)\n",
    "    for i = 1:N[j, 2]\n",
    "        E[j,i] = temp[i,1]\n",
    "    end\n",
    "end\n",
    "E = Array{Int64}(E);"
   ]
  },
  {
   "cell_type": "code",
   "execution_count": 6,
   "metadata": {},
   "outputs": [],
   "source": [
    "# Randomly assign import/export decisions\n",
    "F = rand(num, 2)\n",
    "for j = 1:num\n",
    "    if F[j,1] < 0.19\n",
    "        F[j,1] = 1 \n",
    "    else \n",
    "        F[j,1] = 0\n",
    "    end\n",
    "    if F[j,2] < 0.12\n",
    "        F[j,2] = 1 \n",
    "    else \n",
    "        F[j,2] = 0\n",
    "    end\n",
    "end\n",
    "F = Array{Int64}(F);"
   ]
  },
  {
   "cell_type": "code",
   "execution_count": 7,
   "metadata": {},
   "outputs": [
    {
     "name": "stdout",
     "output_type": "stream",
     "text": [
      "1877\n",
      "1217\n"
     ]
    }
   ],
   "source": [
    "# Check if moments matched\n",
    "println(sum(F[:,1])) # num. importers\n",
    "println(sum(F[:,2])) # num. exporters"
   ]
  },
  {
   "cell_type": "code",
   "execution_count": 8,
   "metadata": {},
   "outputs": [],
   "source": [
    "# Concatenate (N,E,F) to one network matrix\n",
    "N = hcat(N, E, F);"
   ]
  },
  {
   "cell_type": "markdown",
   "metadata": {},
   "source": [
    "In initializing the network, I made no effort to match the covariances between any two of (i) firm productivity, (ii) importing decision, (iii) exporting decision, (iv) cost shares, or (v) position in the network. In reality, I'd expect, for example, that more productive firms would be more likely to export. I abstract from these considerations for simplicity."
   ]
  },
  {
   "cell_type": "markdown",
   "metadata": {},
   "source": [
    "### Assigning Firm Characteristics\n",
    "\n",
    "I now assign firm characteristics according to the distributions listed at the outset. Again, I do not consider any covariance among firm characteristics or between firm characteristics and the network."
   ]
  },
  {
   "cell_type": "code",
   "execution_count": 9,
   "metadata": {},
   "outputs": [],
   "source": [
    "# Initialize parameters\n",
    "Phi_ADscale = -4.42\n",
    "Phi_AFscale = -2.22\n",
    "Phi_BFscale = -2.01\n",
    "Phi_ABdisp = 2.34\n",
    "\n",
    "# Draw firm characteristics\n",
    "A = zeros(num, 8)\n",
    "A[:,1] = rand(LogNormal(-1.52, 0.85), num) # \\phi_j\n",
    "A[:,2] = rand(Beta(0.1, 0.9), num) # X_j\n",
    "A[:,3] = rand(LogNormal(Phi_ADscale, Phi_ABdisp), num) # Y_{kj} for all k\n",
    "A[:,4] = rand(LogNormal(Phi_AFscale, Phi_ABdisp), num) # \\alpha_{Fj}\n",
    "A[:,5] = rand(LogNormal(Phi_BFscale, Phi_ABdisp), num) # \\beta_{jF}\n",
    "\n",
    "# Concatenate network and firm characteristics\n",
    "N = hcat(N, A);"
   ]
  },
  {
   "cell_type": "markdown",
   "metadata": {},
   "source": [
    "### Simulating the Economy\n",
    "\n",
    "Recall the definition of a competitive equilibrium with a fixed network: Given foreign expenditure $E_f$, foreign price index $P_F$, and a set of prices set by foreign suppliers $\\{p_{Fj}\\}$, an equilibrium for the model with a fixed production network and fixed export participation is \n",
    "+ a wage level $w$,\n",
    "+ a consumer price index $P$, and\n",
    "+ aggregate expenditure $E$\n",
    "\n",
    "such that equations $(5)$, $(7)-(9)$, and $(13)-(17)$ from TKMD (2018) hold. \n",
    "\n",
    "Recall that firms sell to final consumers at a *constant markup* over marginal cost but sell to other firms *at* marginal cost. Moreover, recall that the network is *acyclic*, so each firm can only use the output of its predecessors (and labor) to produce.\n",
    "\n",
    "Because the network is fixed and all import/export decisions are taken as given here, **all fixed costs have been and will continue to be ignored.** "
   ]
  },
  {
   "cell_type": "code",
   "execution_count": 15,
   "metadata": {},
   "outputs": [],
   "source": [
    "# Calibrate elasticities and labor supply\n",
    "sigma = 4.0\n",
    "rho = 2.0\n",
    "w = 1000.0 # normalized\n",
    "tau = 1.0\n",
    "mu = sigma / (sigma - 1)\n",
    "\n",
    "# Arbitrarily choose foreign variable price vector\n",
    "p_F = (rand(num,1) .+ 1.25)      # alternative: p_F = 1.75 * ones(num,1)\n",
    "P_F = 0.05;      # alternative: P_F = (sum(p_F.^(1-sigma)))^(1/(sigma-1))"
   ]
  },
  {
   "cell_type": "code",
   "execution_count": 16,
   "metadata": {},
   "outputs": [],
   "source": [
    "# Retrieve firm characteristic vectors\n",
    "IndI = N[:,maxcard+3]\n",
    "IndE = N[:,maxcard+4]\n",
    "phi = N[:,maxcard+5]\n",
    "X = N[:,maxcard+6]\n",
    "Y = N[:,maxcard+7]\n",
    "alpha_F = N[:,maxcard+8]\n",
    "beta_F = N[:,maxcard+9];"
   ]
  },
  {
   "cell_type": "code",
   "execution_count": 17,
   "metadata": {},
   "outputs": [],
   "source": [
    "c = zeros(num,1) \n",
    "Theta = zeros(num,1)\n",
    "for j=1:num\n",
    "    Z = N[j,3:maxcard+2]\n",
    "    filter!(e -> e>0, Z)\n",
    "    Z = Array{Int64}(Z)\n",
    "    costsum = 0\n",
    "    for i = Z\n",
    "        temp = (X[i,1]*Y[j,1])^(rho-1)*(c[i,1])^(1-rho)\n",
    "        costsum += temp\n",
    "    end\n",
    "    costsum += IndI[j,1]*(alpha_F[j,1])^(rho-1)*(p_F[j,1])^(1-rho)\n",
    "    Theta[j,1] = costsum + w^(1-rho)\n",
    "    c[j,1] = (1/phi[j,1])*(costsum + w^(1-rho))^(1/(1-rho)) # TKMD eq (7)\n",
    "end\n",
    "p_H = mu * c\n",
    "P = (sum(p_H.^(1-sigma)))^(1/(sigma-1)); # TKMD eq (5)"
   ]
  },
  {
   "cell_type": "code",
   "execution_count": 18,
   "metadata": {},
   "outputs": [
    {
     "name": "stdout",
     "output_type": "stream",
     "text": [
      "  2.044059 seconds (100.05 k allocations: 106.023 MiB, 0.60% gc time)\n"
     ]
    }
   ],
   "source": [
    "@time begin\n",
    "    S, SparseNet = Crews_SparseShares(N,c,Theta,p_F,rho)\n",
    "    end;"
   ]
  },
  {
   "cell_type": "code",
   "execution_count": 19,
   "metadata": {},
   "outputs": [
    {
     "data": {
      "text/plain": [
       "Results of Nonlinear Solver Algorithm\n",
       " * Algorithm: Trust-region with dogleg and autoscaling\n",
       " * Starting Point: [1.0 1.0]\n",
       " * Zero: [7.70183e-41 2.93401e-30]\n",
       " * Inf-norm of residuals: 0.000000\n",
       " * Iterations: 7\n",
       " * Convergence: true\n",
       "   * |x - x'| < 0.0e+00: false\n",
       "   * |f(x)| < 1.0e-08: true\n",
       " * Function Calls (f): 8\n",
       " * Jacobian Calls (df/dx): 8"
      ]
     },
     "execution_count": 19,
     "metadata": {},
     "output_type": "execute_result"
    }
   ],
   "source": [
    "E_EF = nlsolve((E_EF) -> Crews_FixNetEquil(E_EF, N, S, P, p_H, P_F, p_F, w, tau, sigma, rho)[1], ones(1,2))"
   ]
  },
  {
   "cell_type": "code",
   "execution_count": 20,
   "metadata": {},
   "outputs": [],
   "source": [
    "E_EF = E_EF.zero\n",
    "E = E_EF[1]\n",
    "E_F = E_EF[2];"
   ]
  },
  {
   "cell_type": "code",
   "execution_count": 21,
   "metadata": {},
   "outputs": [
    {
     "data": {
      "text/plain": [
       "([-9.0001e-14, -9.00009e-25], 4.59684338873036e-34, [2.30565e-46; 2.70158e-39; … ; 1.93973e-37; 5.11273e-36], [3.0742e-46; 3.6021e-39; … ; 1.93973e-37; 5.11273e-36], [7.68551e-47; 9.00525e-40; … ; 1.55524e-47; 4.82367e-47], [1.44498e-9; 2.43532; … ; 1.7218e-10; 7.78796e-10], [3.06738e-46; 2.55146e-39; … ; 6.22099e-47; 1.92948e-46], \n",
       "  [2    ,     1]  =  5.46739e-60\n",
       "  [3    ,     1]  =  1.30803e-58\n",
       "  [4    ,     1]  =  5.15624e-60\n",
       "  [5    ,     1]  =  4.78715e-58\n",
       "  [6    ,     1]  =  2.84659e-57\n",
       "  [7    ,     1]  =  7.17189e-59\n",
       "  [8    ,     1]  =  4.1324e-59\n",
       "  [9    ,     1]  =  8.42968e-58\n",
       "  [10   ,     1]  =  6.71844e-60\n",
       "  [11   ,     1]  =  4.54872e-57\n",
       "  [12   ,     1]  =  4.58117e-59\n",
       "  [13   ,     1]  =  2.93124e-58\n",
       "  ⋮\n",
       "  [9975 ,  9923]  =  1.11814e-39\n",
       "  [9930 ,  9924]  =  3.04631e-50\n",
       "  [9993 ,  9926]  =  1.53546e-40\n",
       "  [9963 ,  9931]  =  2.41772e-43\n",
       "  [9984 ,  9933]  =  2.10649e-39\n",
       "  [9942 ,  9939]  =  2.79801e-39\n",
       "  [9988 ,  9945]  =  1.72951e-48\n",
       "  [9954 ,  9946]  =  3.04279e-47\n",
       "  [9977 ,  9947]  =  5.16774e-48\n",
       "  [9971 ,  9969]  =  2.50567e-38\n",
       "  [9994 ,  9977]  =  1.31076e-46\n",
       "  [9985 ,  9982]  =  1.23991e-38, [6.82139e-49; 1.05064e-39; … ; 0.0; 0.0])"
      ]
     },
     "execution_count": 21,
     "metadata": {},
     "output_type": "execute_result"
    }
   ],
   "source": [
    "MC_TB, L, total_cost, total_sale, total_profit, q, x_H, x_D, x_F = Crews_FixNetEquil(E_EF, N, S, P, p_H, P_F, p_F, w, tau, sigma, rho)"
   ]
  },
  {
   "cell_type": "markdown",
   "metadata": {},
   "source": [
    "The equilibrium expenditure values and labor endowment are ridiculously low, but at least they're all positive!"
   ]
  },
  {
   "cell_type": "markdown",
   "metadata": {},
   "source": [
    "### Checking Moments\n",
    "\n",
    "As already established, I am able to match the percentage of importers and exporters by construction. I hit the quantiles of the distribution of the number of suppliers quite well, but my distribution of labor shares is too spread out. I also overshoot the distribution of buyers. Later I show that my distribution of total foreign input shares is also a bit too spread out."
   ]
  },
  {
   "cell_type": "code",
   "execution_count": 22,
   "metadata": {},
   "outputs": [
    {
     "name": "stdout",
     "output_type": "stream",
     "text": [
      "The p = 0.25 quantile of the distribution of labor cost shares is 0.08091384630879023\n",
      "The p = 0.25 quantile of the distribution of number of suppliers is 20.0\n",
      "The p = 0.25 quantile of the distribution of number of buyers is 13.0\n",
      "The p = 0.5 quantile of the distribution of labor cost shares is 0.5810908730033146\n",
      "The p = 0.5 quantile of the distribution of number of suppliers is 33.0\n",
      "The p = 0.5 quantile of the distribution of number of buyers is 32.0\n",
      "The p = 0.75 quantile of the distribution of labor cost shares is 0.9462935133491122\n",
      "The p = 0.75 quantile of the distribution of number of suppliers is 56.0\n",
      "The p = 0.75 quantile of the distribution of number of buyers is 63.0\n"
     ]
    }
   ],
   "source": [
    "for p = [0.25, 0.5, 0.75]\n",
    "    qShareLabor = quantile!(S[:, num+1], p)\n",
    "    qNumSupply = quantile!(N[:,2], p)\n",
    "    buyers = zeros(num,1)\n",
    "    for j = 1:num\n",
    "        buyers[j,1] = count(i -> i > 0, S[:,j])\n",
    "    end\n",
    "    qNumBuyers = quantile!(buyers[:,1], p)\n",
    "    println(\"The p = \", p, \" quantile of the distribution of labor cost shares is \", qShareLabor)\n",
    "    println(\"The p = \", p, \" quantile of the distribution of number of suppliers is \", qNumSupply)\n",
    "    println(\"The p = \", p, \" quantile of the distribution of number of buyers is \", qNumBuyers)\n",
    "end"
   ]
  },
  {
   "cell_type": "markdown",
   "metadata": {},
   "source": [
    "### Calculating Foreign Input Shares"
   ]
  },
  {
   "cell_type": "code",
   "execution_count": 23,
   "metadata": {},
   "outputs": [],
   "source": [
    "totFshare = zeros(num,1);\n",
    "totFshare[1,1] = S[1,num+2];\n",
    "for j = 2:num\n",
    "    if N[j,2] == 0\n",
    "        totFshare[j,1] = S[j,num+2]\n",
    "    else\n",
    "        Z = N[j,3:maxcard+2]\n",
    "        filter!(e -> e>0, Z)\n",
    "        Z = Array{Int64}(Z)\n",
    "        totFshare[j,1] = S[j,num+2]\n",
    "        for k = Z\n",
    "            totFshare[j,1] += S[j,k]*S[k,num+2]\n",
    "        end\n",
    "    end\n",
    "end"
   ]
  },
  {
   "cell_type": "code",
   "execution_count": 24,
   "metadata": {},
   "outputs": [
    {
     "name": "stdout",
     "output_type": "stream",
     "text": [
      "The p = 0.25 quantile of the distribution of total foreign input shares is 0.011689811775364904\n",
      "The p = 0.5 quantile of the distribution of total foreign input shares is 0.190094067110629\n",
      "The p = 0.75 quantile of the distribution of total foreign input shares is 0.7758889168801517\n"
     ]
    }
   ],
   "source": [
    "for p = [0.25, 0.5, 0.75]\n",
    "    qtFs = quantile!(totFshare[:,1], p)\n",
    "    println(\"The p = \", p, \" quantile of the distribution of total foreign input shares is \", qtFs)\n",
    "end"
   ]
  },
  {
   "cell_type": "markdown",
   "metadata": {},
   "source": [
    "### Calculating the Real Wage Change from Reversion to Autarky \n",
    "\n",
    "Following the discussion below equation (20) of TKMD (2018), the change in the real wage from reversion to autarky is\n",
    "$$\n",
    "\\Delta \\left( \\frac{w}{P} \\right) = \\left(\\sum_j s_{jH} \\left(1 - s_{Fj}^{Tot} \\right)^{\\frac{1-\\sigma}{1-\\rho}} \\right)^{\\frac{1}{\\sigma-1}}.\n",
    "$$\n",
    "In my simulation the corresponding percentage change is 56%, which is not too far in magnitude from the estimate of 44% in section 3.3 of TKMD (2018)."
   ]
  },
  {
   "cell_type": "code",
   "execution_count": 25,
   "metadata": {},
   "outputs": [
    {
     "name": "stdout",
     "output_type": "stream",
     "text": [
      "The percentage real wage change from reversion to autarky is roughly 11.0%\n"
     ]
    }
   ],
   "source": [
    "ONE = ones(num,1)\n",
    "sH = (p_H .^ (1-sigma)) / (P^(1-sigma))\n",
    "dRealWage = (sum(sH[:,1] .* ((ONE[:,1]-totFshare[:,1]).^((1-sigma)/(1-rho))))^(1/(sigma-1)))*100 / w\n",
    "dRealWage = ceil(dRealWage)\n",
    "println(\"The percentage real wage change from reversion to autarky is roughly \", dRealWage, \"%\")"
   ]
  },
  {
   "cell_type": "markdown",
   "metadata": {},
   "source": [
    "### The Effects of a 10% Foreign Price Increase\n",
    "\n",
    "Consider a uniform 10% foreign price increase. We want to identify the concomitant change in the real wage. To do so, we used Propositions 1 and 2 as well as Section A.2 of the appendix of TKMD (2018)."
   ]
  },
  {
   "cell_type": "code",
   "execution_count": 42,
   "metadata": {},
   "outputs": [],
   "source": [
    "# 10% increase in foreign price\n",
    "p_F_hat = 1.1\n",
    "\n",
    "# guess w_hat\n",
    "x_hat = ones(num,1)\n",
    "x_hat_previous = 1.1*ones(num,1)\n",
    "w_hat = 1    # guess\n",
    "w_hat_previous = 0.9;\n",
    "\n",
    "share_H = p_H.*q\n",
    "share_L = Array{Float64}(S[:, num+1]);"
   ]
  },
  {
   "cell_type": "code",
   "execution_count": 43,
   "metadata": {},
   "outputs": [],
   "source": [
    "while abs(w_hat_previous-w_hat) > 10e-9\n",
    "    w_hat_previous = w_hat\n",
    "    c_hat = ((ones(num,1)-totFshare)*(w_hat^(1-rho)) + totFshare*(p_F_hat^(1-rho))).^(1/(1-rho))\n",
    "    x_hat_F = c_hat.^(1-sigma) .* IndI\n",
    "    P_hat = (c_hat'.^(1-sigma)*share_H)^(1/(1-sigma))\n",
    "    share_L_hat = w_hat^(1-rho) * c_hat.^(rho-1)\n",
    "    share_hat = c_hat'.^(1-rho).*SparseNet.*c_hat.^(1-rho)\n",
    "    while norm(x_hat-x_hat_previous) > 10e-30\n",
    "        x_hat_previous = x_hat\n",
    "        E_hat = (w*L/E*w_hat) + (total_profit[:,1]'*x_hat_previous[:,1]/E)\n",
    "        x_hat = x_F./total_sale.*x_hat_F + x_H./total_sale.*c_hat.^(1-sigma)*P_hat^(sigma-1)*E_hat + share_hat.*x_D*x_hat_previous./total_sale\n",
    "        w_hat = (share_L .* share_L_hat)'*(total_cost .* x_hat/(w*L))\n",
    "        w_hat = w_hat[1]\n",
    "    end\n",
    "end"
   ]
  },
  {
   "cell_type": "code",
   "execution_count": 44,
   "metadata": {},
   "outputs": [
    {
     "data": {
      "text/plain": [
       "6454.829290558672"
      ]
     },
     "execution_count": 44,
     "metadata": {},
     "output_type": "execute_result"
    }
   ],
   "source": [
    "real_wage_change = w_hat/P_hat[1]"
   ]
  },
  {
   "cell_type": "markdown",
   "metadata": {},
   "source": [
    "Obviously **this result is outrageous**, but I haven't determined whether it is driven by a bug in the code or a flaw in the network formation or both."
   ]
  }
 ],
 "metadata": {
  "kernelspec": {
   "display_name": "Julia 1.0.0",
   "language": "julia",
   "name": "julia-1.0"
  },
  "language_info": {
   "file_extension": ".jl",
   "mimetype": "application/julia",
   "name": "julia",
   "version": "1.0.0"
  }
 },
 "nbformat": 4,
 "nbformat_minor": 2
}
